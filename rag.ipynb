{
 "cells": [
  {
   "cell_type": "code",
   "execution_count": 1,
   "metadata": {},
   "outputs": [],
   "source": [
    "import os\n",
    "import torch\n",
    "import numpy as np\n",
    "from golemai.nlp.llm_resp_gen import LLMRespGen\n",
    "import faiss\n",
    "from langchain_community.docstore.in_memory import InMemoryDocstore\n",
    "from langchain_community.vectorstores import FAISS\n",
    "from langchain_huggingface import HuggingFaceEmbeddings\n",
    "from dotenv import load_dotenv\n",
    "\n",
    "load_dotenv()\n",
    "os.environ['HF_HOME'] = '/net/tscratch/people/plgkonkie311/cache/'"
   ]
  },
  {
   "cell_type": "code",
   "execution_count": 2,
   "metadata": {},
   "outputs": [
    {
     "name": "stdout",
     "output_type": "stream",
     "text": [
      "/net/tscratch/people/plgkonkie311/spatial\n"
     ]
    }
   ],
   "source": [
    "cd spatial"
   ]
  },
  {
   "cell_type": "code",
   "execution_count": 17,
   "metadata": {},
   "outputs": [],
   "source": [
    "from prompts import PROMPT_NER_DISTANCE_WHERE, PROMPT_FIND_LATITUDE_LONGITUDE, PROMPT_END"
   ]
  },
  {
   "cell_type": "code",
   "execution_count": 18,
   "metadata": {},
   "outputs": [],
   "source": [
    "load_dotenv()\n",
    "api_key = os.getenv(\"CLARIN_KEY\")"
   ]
  },
  {
   "cell_type": "code",
   "execution_count": 19,
   "metadata": {},
   "outputs": [
    {
     "name": "stderr",
     "output_type": "stream",
     "text": [
      "Model type is 'api'. Setting generation config for API.\n"
     ]
    }
   ],
   "source": [
    "llm_rg = LLMRespGen(\n",
    "    id_col='id',\n",
    "    model_type='api',\n",
    "    system_msg='You are a helpful assistant.',\n",
    "    prompt_template='',\n",
    "    batch_size=1,\n",
    "    api_url='https://services.clarin-pl.eu/api/v1/oapi',\n",
    "    api_key=api_key,\n",
    "    timeout=60,\n",
    ").set_generation_config(\n",
    "    model_id='mixtral-8x22B'\n",
    ")\n"
   ]
  },
  {
   "cell_type": "code",
   "execution_count": 20,
   "metadata": {},
   "outputs": [],
   "source": [
    "embeddings = HuggingFaceEmbeddings(model_name=\"sdadas/mmlw-roberta-large\")\n",
    "\n",
    "location_vector_store = FAISS.load_local(\n",
    "    'all_wroclaw',\n",
    "    embeddings,\n",
    "    allow_dangerous_deserialization=True,\n",
    ")"
   ]
  },
  {
   "cell_type": "code",
   "execution_count": 21,
   "metadata": {},
   "outputs": [],
   "source": [
    "import textwrap\n",
    "TEXT_WRAP_WIDTH = 120\n",
    "\n",
    "def generate_response(QUERY, verbose=False, **kwargs):\n",
    "    prompts = llm_rg.prepare_prompt(\n",
    "        query=QUERY,\n",
    "        **kwargs,\n",
    "    )\n",
    "\n",
    "    if verbose:\n",
    "        print(\"\\n\".join(textwrap.wrap(prompts, width=TEXT_WRAP_WIDTH)))\n",
    "        print()\n",
    "\n",
    "    result = llm_rg._generate_llm_response(\n",
    "        inputs=prompts,\n",
    "    )\n",
    "\n",
    "    if verbose:\n",
    "        print(\"\\n\".join(textwrap.wrap(result, width=TEXT_WRAP_WIDTH)))\n",
    "\n",
    "    return result\n",
    "\n",
    "def extract_entities_from_documents(query, documents):\n",
    "    llm_rg.set_prompt_template(PROMPT_NER_DISTANCE_WHERE)\n",
    "\n",
    "    result = generate_response(query, verbose=True)\n",
    "\n",
    "    location = result.split(\"`LOCATION_VECTOR_DB_PROMPT`:\")[-1].split(\"`PLACE_VECTOR_DB_PROMPT`\")[0].strip()\n",
    "    place = result.split(\"`PLACE_VECTOR_DB_PROMPT`:\")[-1].split(\"`DISTANCE`\")[0].strip()\n",
    "    distance = result.split(\"`DISTANCE`:\")[-1].split(\"km\")[0].strip()\n",
    "    distance = float(distance) if distance.isdigit() else distance\n",
    "\n",
    "    return location, place, distance\n",
    "\n",
    "\n",
    "def extract_lat_lon_from_documents(query, documents):\n",
    "    llm_rg.set_prompt_template(PROMPT_FIND_LATITUDE_LONGITUDE)\n",
    "\n",
    "    result = generate_response(query, documents=documents, verbose=True)\n",
    "\n",
    "    latitude = result.split(\"`LATITUDE`:\")[-1].split(\"`LONGITUDE`\")[0].strip()\n",
    "    longitude = result.split(\"`LONGITUDE`:\")[-1].strip()\n",
    "    latitude, longitude = float(latitude), float(longitude)\n",
    "\n",
    "    return latitude, longitude\n",
    "\n",
    "def summarize_results(query, documents):\n",
    "    llm_rg.set_prompt_template(PROMPT_END)\n",
    "\n",
    "    result = generate_response(query, documents=documents, verbose=True)\n",
    "\n",
    "    return result\n",
    "\n",
    "def documents_to_string(results):\n",
    "    return \"\\n\".join([f\"{i}. Metadata: {doc.metadata}\\n   Rest: {doc.page_content}\" for i, doc in enumerate(results)])\n",
    "\n",
    "\n",
    "def generate_square_filter(center, radius_km=5, amenity=None):\n",
    "    lat, lon = center\n",
    "    \n",
    "    # Approximate degrees per kilometer for latitude and longitude\n",
    "    lat_delta = radius_km / 110.574  # 1 degree latitude = 110.574 km\n",
    "    lon_delta = radius_km / (111.320 * np.cos(np.radians(lat)))  # 1 degree longitude = 111.320 km * cos(latitude)\n",
    "\n",
    "    # Create the bounding box as a filter\n",
    "    filter_query = {\n",
    "        \"$and\": [\n",
    "            {\"lattitude\": {\"$gte\": lat - lat_delta}},  # min latitude\n",
    "            {\"lattitude\": {\"$lte\": lat + lat_delta}},  # max latitude\n",
    "            {\"longitude\": {\"$gte\": lon - lon_delta}},  # min longitude\n",
    "            {\"longitude\": {\"$lte\": lon + lon_delta}},  # max longitude\n",
    "        ]\n",
    "    }\n",
    "    if amenity:\n",
    "        filter_query[\"$and\"].append({\"amenity\": amenity})\n",
    "    return filter_query"
   ]
  },
  {
   "cell_type": "code",
   "execution_count": 87,
   "metadata": {},
   "outputs": [],
   "source": [
    "# QUERY = \"Find me a Polish restaurant near ulica Legnicka 65, Wrocław\"\n",
    "\n",
    "QUERY = \"Find me a place where i can buy a good coffee near to plac Grunwaldzki, Wrocław\""
   ]
  },
  {
   "cell_type": "code",
   "execution_count": null,
   "metadata": {},
   "outputs": [
    {
     "name": "stdout",
     "output_type": "stream",
     "text": [
      " Instruction for LLM:  Please extract the following fields from the user's query:  1. `LOCATION_VECTOR_DB_PROMPT`:\n",
      "Provide a vector representation of the location mentioned in the user's query. This should correspond to a specific\n",
      "place or landmark (e.g., \"Dworzec Wrocław Główny\"). It should have been extracted in OSM format, e.g., 'amenity':\n",
      "'restaurant', 'cuisine': 'polish'. if you can find address also pass it      2. `PLACE_VECTOR_DB_PROMPT`: Provide a\n",
      "vector representation of the type of place or business mentioned in the query (e.g., \"restaurant\", \"hotel\", etc.). In\n",
      "the given example, it would be a \"Polish restaurant\". It should have been extracted in OSM format, e.g., 'amenity':\n",
      "'restaurant', 'cuisine': 'polish'.  3. `DISTANCE`: If the query contains information about the proximity or distance,\n",
      "either explicitly or implicitly, include it. This could be a specific distance (e.g., \"5 km away\") or a general\n",
      "description (e.g., \"near\"). If available if not thy to change it to a number e.g., \"near\" -> \"1 km\"] Provide only number\n",
      "with km postfix. Example Query:  \"Find me a Polish restaurant near Dworzec Wrocław Główny.  You can add additional\n",
      "instructions to OSM format like steet, housenumber, city, postcode, etc. if you can find it.  Expected Extraction:\n",
      "`LOCATION_VECTOR_DB_PROMPT`: 'name': 'Dworzec Wrocław Główny', 'description': 'train station' `PLACE_VECTOR_DB_PROMPT`:\n",
      "'amenity': 'restaurant', 'cuisine': 'polish' `DISTANCE`: 1 km  Query: \"Find me a place where i can buy a good coffee\n",
      "near to plac Grunwaldzki, Wrocław\"\n",
      "\n",
      " `LOCATION_VECTOR_DB_PROMPT`: 'name': 'plac Grunwaldzki', 'description': 'city square', 'city': 'Wrocław'\n",
      "`PLACE_VECTOR_DB_PROMPT`: 'amenity': 'cafe', 'description': 'coffee shop' `DISTANCE`: 1 km\n"
     ]
    }
   ],
   "source": [
    "location, place, distance = extract_entities_from_documents(QUERY, None)"
   ]
  },
  {
   "cell_type": "code",
   "execution_count": 89,
   "metadata": {},
   "outputs": [
    {
     "data": {
      "text/plain": [
       "(\"'name': 'plac Grunwaldzki', 'description': 'city square', 'city': 'Wrocław'\",\n",
       " \"'amenity': 'cafe', 'description': 'coffee shop'\",\n",
       " 1.0)"
      ]
     },
     "execution_count": 89,
     "metadata": {},
     "output_type": "execute_result"
    }
   ],
   "source": [
    "location, place, distance"
   ]
  },
  {
   "cell_type": "code",
   "execution_count": 90,
   "metadata": {},
   "outputs": [
    {
     "data": {
      "text/plain": [
       "[Document(id='f47e9bbe-97f2-4c3d-aaeb-3b74f1a8af69', metadata={'amenity': 'police', 'name': 'Komisariat Policji Wrocław-Stare Miasto', 'address': 'Unknown , Unknown', 'lattitude': 51.1124518, 'longitude': 17.0103449}, page_content='{\"amenity\": \"police\", \"name\": \"Komisariat Policji Wroc\\\\u0142aw-Stare Miasto\"}'),\n",
       " Document(id='0261c8db-9012-4f5e-b478-da110ccc6601', metadata={'amenity': 'police', 'name': 'I Rewir Dzielnicowych Komisariatu Policji Wrocław-Fabryczna', 'address': 'Unknown , Unknown', 'lattitude': 51.1285018, 'longitude': 16.9721794}, page_content='{\"amenity\": \"police\", \"name\": \"I Rewir Dzielnicowych Komisariatu Policji Wroc\\\\u0142aw-Fabryczna\"}'),\n",
       " Document(id='2d6afdcd-95aa-4fe0-af62-c87be9619b2b', metadata={'amenity': 'monastery', 'name': 'Refektarz', 'address': 'plac Dominikański 2-4, Wrocław', 'lattitude': 51.1092091, 'longitude': 17.0403065}, page_content='{\"addr:city\": \"Wroc\\\\u0142aw\", \"addr:country\": \"PL\", \"addr:housenumber\": \"2-4\", \"addr:postcode\": \"50-159\", \"addr:street\": \"plac Dominika\\\\u0144ski\", \"addr:street:sym_ul\": \"04103\", \"amenity\": \"monastery\", \"image\": \"https://photos.app.goo.gl/PnhinPXQh9QtAxwYA\", \"name\": \"Refektarz\"}'),\n",
       " Document(id='dcc22fa0-bec1-4eeb-bdef-752f5840a445', metadata={'amenity': 'arts_centre', 'name': 'Kontury Kultury', 'address': 'Unknown , Wrocław', 'lattitude': 51.1217726, 'longitude': 17.0336198}, page_content='{\"addr:city\": \"Wroc\\\\u0142aw\", \"addr:country\": \"PL\", \"addr:postcode\": \"50-240\", \"amenity\": \"arts_centre\", \"name\": \"Kontury Kultury\"}'),\n",
       " Document(id='5e6eb53c-a86b-4013-bec1-8bfbff55d44c', metadata={'amenity': 'police', 'name': 'Komisariat Policji Wrocław-Rakowiec', 'address': 'Unknown , Unknown', 'lattitude': 51.1016011, 'longitude': 17.0528721}, page_content='{\"amenity\": \"police\", \"name\": \"Komisariat Policji Wroc\\\\u0142aw-Rakowiec\"}')]"
      ]
     },
     "execution_count": 90,
     "metadata": {},
     "output_type": "execute_result"
    }
   ],
   "source": [
    "results = location_vector_store.similarity_search(\n",
    "    location,\n",
    "    k=5,\n",
    ")\n",
    "\n",
    "results"
   ]
  },
  {
   "cell_type": "code",
   "execution_count": 91,
   "metadata": {},
   "outputs": [
    {
     "name": "stdout",
     "output_type": "stream",
     "text": [
      " From provided Documents, find the latitude and longitude of the location mentioned in the user's query. If it is not\n",
      "explicitly mentioned, try to extract it from the metadata of the documents. It can be near the location mentioned in the\n",
      "query.  QUERY: \"'name': 'plac Grunwaldzki', 'description': 'city square', 'city': 'Wrocław'\"  DOCUMENTS: 0. Metadata:\n",
      "{'amenity': 'police', 'name': 'Komisariat Policji Wrocław-Stare Miasto', 'address': 'Unknown , Unknown', 'lattitude':\n",
      "51.1124518, 'longitude': 17.0103449}    Rest: {\"amenity\": \"police\", \"name\": \"Komisariat Policji Wroc\\u0142aw-Stare\n",
      "Miasto\"} 1. Metadata: {'amenity': 'police', 'name': 'I Rewir Dzielnicowych Komisariatu Policji Wrocław-Fabryczna',\n",
      "'address': 'Unknown , Unknown', 'lattitude': 51.1285018, 'longitude': 16.9721794}    Rest: {\"amenity\": \"police\", \"name\":\n",
      "\"I Rewir Dzielnicowych Komisariatu Policji Wroc\\u0142aw-Fabryczna\"} 2. Metadata: {'amenity': 'monastery', 'name':\n",
      "'Refektarz', 'address': 'plac Dominikański 2-4, Wrocław', 'lattitude': 51.1092091, 'longitude': 17.0403065}    Rest:\n",
      "{\"addr:city\": \"Wroc\\u0142aw\", \"addr:country\": \"PL\", \"addr:housenumber\": \"2-4\", \"addr:postcode\": \"50-159\", \"addr:street\":\n",
      "\"plac Dominika\\u0144ski\", \"addr:street:sym_ul\": \"04103\", \"amenity\": \"monastery\", \"image\":\n",
      "\"https://photos.app.goo.gl/PnhinPXQh9QtAxwYA\", \"name\": \"Refektarz\"} 3. Metadata: {'amenity': 'arts_centre', 'name':\n",
      "'Kontury Kultury', 'address': 'Unknown , Wrocław', 'lattitude': 51.1217726, 'longitude': 17.0336198}    Rest:\n",
      "{\"addr:city\": \"Wroc\\u0142aw\", \"addr:country\": \"PL\", \"addr:postcode\": \"50-240\", \"amenity\": \"arts_centre\", \"name\":\n",
      "\"Kontury Kultury\"} 4. Metadata: {'amenity': 'police', 'name': 'Komisariat Policji Wrocław-Rakowiec', 'address': 'Unknown\n",
      ", Unknown', 'lattitude': 51.1016011, 'longitude': 17.0528721}    Rest: {\"amenity\": \"police\", \"name\": \"Komisariat Policji\n",
      "Wroc\\u0142aw-Rakowiec\"}  Expected Extraction: `EXPLANATION`: (short explanation of how the latitude and longitude were\n",
      "extracted) `LATITUDE`: (latitude value) `LONGITUDE`: (longitude value)\n",
      "\n",
      " `EXPLANATION`: The latitude and longitude were extracted from the metadata of document 2, which is the only document\n",
      "that contains the city name 'Wrocław' in its address field. Although the document does not explicitly mention 'plac\n",
      "Grunwaldzki', it is the closest match to the user's query as it is the only document with a location in Wrocław.\n",
      "`LATITUDE`: 51.1092091  `LONGITUDE`: 17.0403065\n"
     ]
    }
   ],
   "source": [
    "documents = documents_to_string(results)\n",
    "\n",
    "\n",
    "latitude, longitude = extract_lat_lon_from_documents(location, documents)"
   ]
  },
  {
   "cell_type": "code",
   "execution_count": 92,
   "metadata": {},
   "outputs": [
    {
     "data": {
      "text/plain": [
       "(51.1092091, 17.0403065, \"'amenity': 'cafe', 'description': 'coffee shop'\")"
      ]
     },
     "execution_count": 92,
     "metadata": {},
     "output_type": "execute_result"
    }
   ],
   "source": [
    "latitude, longitude, place"
   ]
  },
  {
   "cell_type": "code",
   "execution_count": 98,
   "metadata": {},
   "outputs": [
    {
     "data": {
      "text/plain": [
       "[Document(id='2450cc3e-f5f7-481a-8b72-b0a10a4517a9', metadata={'amenity': 'cafe', 'name': 'Kawiarnia Muzealna', 'address': 'Unknown , Unknown', 'lattitude': 51.1107113, 'longitude': 17.0475408}, page_content='{\"amenity\": \"cafe\", \"name\": \"Kawiarnia Muzealna\"}'),\n",
       " Document(id='2f337e64-818a-4457-b7c1-bdaa9abf2f9f', metadata={'amenity': 'cafe', 'name': 'Café Kulisy', 'address': 'Unknown , Unknown', 'lattitude': 51.1013937, 'longitude': 17.0263401}, page_content='{\"amenity\": \"cafe\", \"name\": \"Caf\\\\u00e9 Kulisy\", \"outdoor_seating\": \"yes\"}'),\n",
       " Document(id='1f4f9c42-fa09-47d2-8ecd-78b6b4fcc134', metadata={'amenity': 'cafe', 'name': \"Slivianczik's\", 'address': 'Unknown , Unknown', 'lattitude': 51.106372, 'longitude': 17.043319}, page_content='{\"amenity\": \"cafe\", \"name\": \"Slivianczik\\'s\"}'),\n",
       " Document(id='efd9935b-ced7-4890-90a0-f9cdf58ba20b', metadata={'amenity': 'cafe', 'name': 'Cafe de France', 'address': 'Unknown , Unknown', 'lattitude': 51.1103353, 'longitude': 17.0327545}, page_content='{\"amenity\": \"cafe\", \"name\": \"Cafe de France\", \"outdoor_seating\": \"yes\"}'),\n",
       " Document(id='d73a7c9a-fcf2-4c03-a556-e5fbd6139647', metadata={'amenity': 'restaurant', 'name': 'Patio', 'address': 'Unknown , Unknown', 'lattitude': 51.111895, 'longitude': 17.029436}, page_content='{\"amenity\": \"restaurant\", \"cuisine\": \"breakfast\", \"description\": \"restauracja hotelowa\", \"name\": \"Patio\"}')]"
      ]
     },
     "execution_count": 98,
     "metadata": {},
     "output_type": "execute_result"
    }
   ],
   "source": [
    "results = location_vector_store.similarity_search(\n",
    "    place,\n",
    "    k=5,\n",
    "    filter=generate_square_filter((latitude, longitude), radius_km=distance),\n",
    ")\n",
    "\n",
    "\n",
    "results"
   ]
  },
  {
   "cell_type": "code",
   "execution_count": 94,
   "metadata": {},
   "outputs": [
    {
     "name": "stdout",
     "output_type": "stream",
     "text": [
      " Provide short suummarization based on user query and the documents provided. Recommend the most relevant document.\n",
      "QUERY: \"Find me a place where i can buy a good coffee near to plac Grunwaldzki, Wrocław\"  DOCUMENTS: 0. Metadata:\n",
      "{'amenity': 'cafe', 'name': 'Kawiarnia Muzealna', 'address': 'Unknown , Unknown', 'lattitude': 51.1107113, 'longitude':\n",
      "17.0475408}    Rest: {\"amenity\": \"cafe\", \"name\": \"Kawiarnia Muzealna\"} 1. Metadata: {'amenity': 'cafe', 'name': 'Café\n",
      "Kulisy', 'address': 'Unknown , Unknown', 'lattitude': 51.1013937, 'longitude': 17.0263401}    Rest: {\"amenity\": \"cafe\",\n",
      "\"name\": \"Caf\\u00e9 Kulisy\", \"outdoor_seating\": \"yes\"} 2. Metadata: {'amenity': 'cafe', 'name': \"Slivianczik's\",\n",
      "'address': 'Unknown , Unknown', 'lattitude': 51.106372, 'longitude': 17.043319}    Rest: {\"amenity\": \"cafe\", \"name\":\n",
      "\"Slivianczik's\"} 3. Metadata: {'amenity': 'cafe', 'name': 'Cafe de France', 'address': 'Unknown , Unknown', 'lattitude':\n",
      "51.1103353, 'longitude': 17.0327545}    Rest: {\"amenity\": \"cafe\", \"name\": \"Cafe de France\", \"outdoor_seating\": \"yes\"} 4.\n",
      "Metadata: {'amenity': 'restaurant', 'name': 'Patio', 'address': 'Unknown , Unknown', 'lattitude': 51.111895,\n",
      "'longitude': 17.029436}    Rest: {\"amenity\": \"restaurant\", \"cuisine\": \"breakfast\", \"description\": \"restauracja\n",
      "hotelowa\", \"name\": \"Patio\"}  RECOMMENDATION:\n",
      "\n",
      " Based on your query, I would recommend \"Café de France\" as it is a café with outdoor seating, which could be a nice\n",
      "place to enjoy your coffee. It is also located relatively close to Plac Grunwaldzki in Wrocław. However, please note\n",
      "that the exact addresses for these locations are not provided, so I recommend checking their specific locations for the\n",
      "most accurate information.\n"
     ]
    }
   ],
   "source": [
    "documents = documents_to_string(results)\n",
    "\n",
    "answer = summarize_results(QUERY, documents)"
   ]
  },
  {
   "cell_type": "code",
   "execution_count": 95,
   "metadata": {},
   "outputs": [
    {
     "name": "stdout",
     "output_type": "stream",
     "text": [
      " Based on your query, I would recommend \"Café de France\" as it is a café with outdoor seating, which could be a nice\n",
      "place to enjoy your coffee. It is also located relatively close to Plac Grunwaldzki in Wrocław. However, please note\n",
      "that the exact addresses for these locations are not provided, so I recommend checking their specific locations for the\n",
      "most accurate information.\n"
     ]
    }
   ],
   "source": [
    "print('\\n'.join(textwrap.wrap(answer, width=TEXT_WRAP_WIDTH)))"
   ]
  },
  {
   "cell_type": "markdown",
   "metadata": {},
   "source": [
    "# Booksy"
   ]
  },
  {
   "cell_type": "code",
   "execution_count": 24,
   "metadata": {},
   "outputs": [],
   "source": [
    "embeddings = HuggingFaceEmbeddings(model_name=\"sdadas/mmlw-roberta-large\")\n",
    "\n",
    "booksy_vector_store = FAISS.load_local(\n",
    "    'booksy_wroclaw',\n",
    "    embeddings,\n",
    "    allow_dangerous_deserialization=True,\n",
    ")"
   ]
  },
  {
   "cell_type": "code",
   "execution_count": 56,
   "metadata": {},
   "outputs": [],
   "source": [
    "# QUERY = \"Find me a hairdresser that offers hair coloring near to plac Grunwaldzki, Wrocław\"\n",
    "\n",
    "QUERY = \"Find ma a hairdresser that costs less than 100 PLN for a men's haircut near to Galeria Dominikańska, Wrocław\""
   ]
  },
  {
   "cell_type": "code",
   "execution_count": 57,
   "metadata": {},
   "outputs": [
    {
     "name": "stdout",
     "output_type": "stream",
     "text": [
      " Please extract the following fields from the user's query:  1. `LOCATION_VECTOR_DB_PROMPT`: Provide a representation of\n",
      "the location mentioned in the user's query. This should correspond to a specific place or landmark (e.g., \"Dworzec\n",
      "Wrocław Główny\"). It should have been extracted in OSM format, e.g., 'amenity': 'restaurant', 'cuisine': 'polish'. if\n",
      "you can find address also pass it      2. `PLACE_VECTOR_DB_PROMPT`: Provide a representation of the type of place or\n",
      "business mentioned in the query (e.g., \"restaurant\", \"hotel\", etc.). In the given example, it would be a \"Polish\n",
      "restaurant\". It should have been extracted in OSM format, e.g., 'amenity': 'restaurant', 'cuisine': 'polish'.  3.\n",
      "`DISTANCE`: If the query contains information about the proximity or distance, either explicitly or implicitly, include\n",
      "it. This could be a specific distance (e.g., \"5 km away\") or a general description (e.g., \"near\"). If available if not\n",
      "thy to change it to a number e.g., \"near\" -> \"1 km\"] Provide only number with km postfix. Example Query:  \"Find me a\n",
      "Polish restaurant near Dworzec Wrocław Główny.  You can add additional instructions to OSM format like steet,\n",
      "housenumber, city, postcode, etc. if you can find it.  Expected Extraction: `LOCATION_VECTOR_DB_PROMPT`: 'name':\n",
      "'Dworzec Wrocław Główny', 'description': 'train station' `PLACE_VECTOR_DB_PROMPT`: 'amenity': 'restaurant', 'cuisine':\n",
      "'polish' `DISTANCE`: 1 km  Query: \"Find ma a hairdresser that costs less than 100 PLN for a men's haircut near to\n",
      "Galeria Dominikańska, Wrocław\"\n",
      "\n",
      " `LOCATION_VECTOR_DB_PROMPT`: 'name': 'Galeria Dominikańska', 'description': 'shopping mall', 'address': {'street': 'ul.\n",
      "Oławska', 'housenumber': '1', 'city': 'Wrocław'} `PLACE_VECTOR_DB_PROMPT`: 'amenity': 'hairdresser', 'price': 'less than\n",
      "100 PLN', 'service': 'men's haircut' `DISTANCE`: 1 km\n"
     ]
    }
   ],
   "source": [
    "location, place, distance = extract_entities_from_documents(QUERY, None)"
   ]
  },
  {
   "cell_type": "code",
   "execution_count": 58,
   "metadata": {},
   "outputs": [
    {
     "data": {
      "text/plain": [
       "(\"'name': 'Galeria Dominikańska', 'description': 'shopping mall', 'address': {'street': 'ul. Oławska', 'housenumber': '1', 'city': 'Wrocław'}\",\n",
       " \"'amenity': 'hairdresser', 'price': 'less than 100 PLN', 'service': 'men's haircut'\",\n",
       " 1.0)"
      ]
     },
     "execution_count": 58,
     "metadata": {},
     "output_type": "execute_result"
    }
   ],
   "source": [
    "location, place, distance"
   ]
  },
  {
   "cell_type": "code",
   "execution_count": 60,
   "metadata": {},
   "outputs": [
    {
     "data": {
      "text/plain": [
       "[Document(id='2d6afdcd-95aa-4fe0-af62-c87be9619b2b', metadata={'amenity': 'monastery', 'name': 'Refektarz', 'address': 'plac Dominikański 2-4, Wrocław', 'lattitude': 51.1092091, 'longitude': 17.0403065}, page_content='{\"addr:city\": \"Wroc\\\\u0142aw\", \"addr:country\": \"PL\", \"addr:housenumber\": \"2-4\", \"addr:postcode\": \"50-159\", \"addr:street\": \"plac Dominika\\\\u0144ski\", \"addr:street:sym_ul\": \"04103\", \"amenity\": \"monastery\", \"image\": \"https://photos.app.goo.gl/PnhinPXQh9QtAxwYA\", \"name\": \"Refektarz\"}'),\n",
       " Document(id='78343a13-b4b7-4b7e-acd6-b133932cb780', metadata={'amenity': 'marketplace', 'name': 'C.H. TARGET', 'address': 'Henryka Michała Kamieńskiego 14, Wrocław', 'lattitude': 51.1412245, 'longitude': 17.0343133}, page_content='{\"addr:city\": \"Wroc\\\\u0142aw\", \"addr:housenumber\": \"14\", \"addr:postcode\": \"51-124\", \"addr:street\": \"Henryka Micha\\\\u0142a Kamie\\\\u0144skiego\", \"amenity\": \"marketplace\", \"name\": \"C.H. TARGET\"}'),\n",
       " Document(id='c17f5631-3238-4b57-a50d-472d8078093a', metadata={'amenity': 'arts_centre', 'name': 'Pracownia Otwarta', 'address': 'Ludwika Rydygiera 25b, Wrocław', 'lattitude': 51.1194911, 'longitude': 17.0333652}, page_content='{\"addr:city\": \"Wroc\\\\u0142aw\", \"addr:country\": \"PL\", \"addr:housenumber\": \"25b\", \"addr:postcode\": \"50-248\", \"addr:street\": \"Ludwika Rydygiera\", \"amenity\": \"arts_centre\", \"name\": \"Pracownia Otwarta\", \"note\": \"przeniesiona z Pomorskiej 55\", \"website\": \"https://www.pracowniaotwarta.com\"}'),\n",
       " Document(id='f1f175f4-fedc-4292-b7fc-1c735240e5f9', metadata={'amenity': 'pharmacy', 'name': 'Leśna', 'address': 'Zatorska 1, Wrocław', 'lattitude': 51.1612941, 'longitude': 17.1245953}, page_content='{\"addr:city\": \"Wroc\\\\u0142aw\", \"addr:housenumber\": \"1\", \"addr:postcode\": \"51-215\", \"addr:street\": \"Zatorska\", \"amenity\": \"pharmacy\", \"dispensing\": \"yes\", \"name\": \"Le\\\\u015bna\", \"ref:csioz\": \"1126545\", \"source:addr\": \"WroclawGIS\"}'),\n",
       " Document(id='bc5c4b3a-f1f8-434e-b5c2-0395f8f5adcf', metadata={'amenity': 'cafe', 'name': 'Kule', 'address': 'Odrzańska 21, Wrocław', 'lattitude': 51.1130216, 'longitude': 17.0315165}, page_content='{\"addr:city\": \"Wroc\\\\u0142aw\", \"addr:housenumber\": \"21\", \"addr:postcode\": \"50-114\", \"addr:street\": \"Odrza\\\\u0144ska\", \"amenity\": \"cafe\", \"cuisine\": \"bubble_tea\", \"name\": \"Kule\"}')]"
      ]
     },
     "execution_count": 60,
     "metadata": {},
     "output_type": "execute_result"
    }
   ],
   "source": [
    "results = location_vector_store.similarity_search(\n",
    "    location,\n",
    "    k=5,\n",
    ")\n",
    "\n",
    "results"
   ]
  },
  {
   "cell_type": "code",
   "execution_count": 61,
   "metadata": {},
   "outputs": [
    {
     "name": "stdout",
     "output_type": "stream",
     "text": [
      " From provided Documents, find the latitude and longitude of the location mentioned in the user's query. If it is not\n",
      "explicitly mentioned, try to extract it from the metadata of the documents. It can be near the location mentioned in the\n",
      "query.  QUERY: \"'name': 'Galeria Dominikańska', 'description': 'shopping mall', 'address': {'street': 'ul. Oławska',\n",
      "'housenumber': '1', 'city': 'Wrocław'}\"  DOCUMENTS: 0. Metadata: {'amenity': 'monastery', 'name': 'Refektarz',\n",
      "'address': 'plac Dominikański 2-4, Wrocław', 'lattitude': 51.1092091, 'longitude': 17.0403065}    Rest: {\"addr:city\":\n",
      "\"Wroc\\u0142aw\", \"addr:country\": \"PL\", \"addr:housenumber\": \"2-4\", \"addr:postcode\": \"50-159\", \"addr:street\": \"plac\n",
      "Dominika\\u0144ski\", \"addr:street:sym_ul\": \"04103\", \"amenity\": \"monastery\", \"image\":\n",
      "\"https://photos.app.goo.gl/PnhinPXQh9QtAxwYA\", \"name\": \"Refektarz\"} 1. Metadata: {'amenity': 'marketplace', 'name':\n",
      "'C.H. TARGET', 'address': 'Henryka Michała Kamieńskiego 14, Wrocław', 'lattitude': 51.1412245, 'longitude': 17.0343133}\n",
      "Rest: {\"addr:city\": \"Wroc\\u0142aw\", \"addr:housenumber\": \"14\", \"addr:postcode\": \"51-124\", \"addr:street\": \"Henryka\n",
      "Micha\\u0142a Kamie\\u0144skiego\", \"amenity\": \"marketplace\", \"name\": \"C.H. TARGET\"} 2. Metadata: {'amenity':\n",
      "'arts_centre', 'name': 'Pracownia Otwarta', 'address': 'Ludwika Rydygiera 25b, Wrocław', 'lattitude': 51.1194911,\n",
      "'longitude': 17.0333652}    Rest: {\"addr:city\": \"Wroc\\u0142aw\", \"addr:country\": \"PL\", \"addr:housenumber\": \"25b\",\n",
      "\"addr:postcode\": \"50-248\", \"addr:street\": \"Ludwika Rydygiera\", \"amenity\": \"arts_centre\", \"name\": \"Pracownia Otwarta\",\n",
      "\"note\": \"przeniesiona z Pomorskiej 55\", \"website\": \"https://www.pracowniaotwarta.com\"} 3. Metadata: {'amenity':\n",
      "'pharmacy', 'name': 'Leśna', 'address': 'Zatorska 1, Wrocław', 'lattitude': 51.1612941, 'longitude': 17.1245953}\n",
      "Rest: {\"addr:city\": \"Wroc\\u0142aw\", \"addr:housenumber\": \"1\", \"addr:postcode\": \"51-215\", \"addr:street\": \"Zatorska\",\n",
      "\"amenity\": \"pharmacy\", \"dispensing\": \"yes\", \"name\": \"Le\\u015bna\", \"ref:csioz\": \"1126545\", \"source:addr\": \"WroclawGIS\"}\n",
      "4. Metadata: {'amenity': 'cafe', 'name': 'Kule', 'address': 'Odrzańska 21, Wrocław', 'lattitude': 51.1130216,\n",
      "'longitude': 17.0315165}    Rest: {\"addr:city\": \"Wroc\\u0142aw\", \"addr:housenumber\": \"21\", \"addr:postcode\": \"50-114\",\n",
      "\"addr:street\": \"Odrza\\u0144ska\", \"amenity\": \"cafe\", \"cuisine\": \"bubble_tea\", \"name\": \"Kule\"}  Expected Extraction:\n",
      "`EXPLANATION`: (short explanation of how the latitude and longitude were extracted) `LATITUDE`: (latitude value)\n",
      "`LONGITUDE`: (longitude value)\n",
      "\n",
      " `EXPLANATION`: The latitude and longitude were extracted from the metadata of the document that is closest to the\n",
      "location mentioned in the query. The query mentions 'Galeria Dominikańska', a shopping mall located in Wrocław, Poland.\n",
      "The document with the metadata closest to this location is the first document, which is a monastery located at 'plac\n",
      "Dominikański 2-4, Wrocław'.  `LATITUDE`: 51.1092091 `LONGITUDE`: 17.0403065\n"
     ]
    }
   ],
   "source": [
    "documents = documents_to_string(results)\n",
    "\n",
    "latitude, longitude = extract_lat_lon_from_documents(location, documents)"
   ]
  },
  {
   "cell_type": "code",
   "execution_count": 62,
   "metadata": {},
   "outputs": [
    {
     "data": {
      "text/plain": [
       "(51.1092091,\n",
       " 17.0403065,\n",
       " \"'amenity': 'hairdresser', 'price': 'less than 100 PLN', 'service': 'men's haircut'\")"
      ]
     },
     "execution_count": 62,
     "metadata": {},
     "output_type": "execute_result"
    }
   ],
   "source": [
    "latitude, longitude, place"
   ]
  },
  {
   "cell_type": "code",
   "execution_count": 63,
   "metadata": {},
   "outputs": [
    {
     "data": {
      "text/plain": [
       "[Document(id='68a7772b-0ca6-4b17-9a09-d13004c1cea3', metadata={'name': 'THE MOST WANTED BARBERSHOP 2', 'rating': '4,9', 'lattitude': 51.1084243, 'longitude': 17.0313557, 'address': 'Ofiar Oświęcimskich 15, 50-059, Wrocław'}, page_content=\"Name: THE MOST WANTED BARBERSHOP 2 Rating: 4,9 Address: Ofiar Oświęcimskich 15, 50-059, Wrocław  Services: [{'price': '55,00 zł+', 'name': 'strzyżenie męskie krótkie włosy'}, {'price': '95,00 zł+', 'name': 'strzyżenie damskie włosy średnie'}, {'price': '120,00 zł+', 'name': 'strzyżenie damskie włosy długie'}, {'price': '20,00 zł', 'name': 'grzywka'}, {'price': 'Darmowa', 'name': 'bezpłatna konsultacja'}, {'price': '55,00 zł+', 'name': 'strzyżenie męskie krótkie włosy'}, {'price': '70,00 zł+', 'name': 'strzyżenie męskie włosy długie'}, {'price': '140,00 zł', 'name': 'zabieg odsiwiający strzyżenie'}, {'price': '50,00 zł+', 'name': 'strzyżenie maszynka'}, {'price': '160,00 zł+', 'name': 'męska trwała ondulacja włosy krótkie'}, {'price': '70,00 zł+', 'name': 'combo strzyzenie broda'}, {'price': '200,00 zł+', 'name': 'męska trwała ondulacja włosy długie'}, {'price': '70,00 zł+', 'name': 'strzyżenie damskie włosy krótkie'}, {'price': '50,00 zł+', 'name': 'modelowanie włosy krótkie'}, {'price': '195,00 zł+', 'name': 'farbowanie strzyżenie modelowanie włosy krótkie'}, {'price': '190,00 zł+', 'name': 'dekoloryzacja farbowanie włosy krótkie'}, {'price': '200,00 zł+', 'name': 'farbowanie flesz włosy krótkie'}, {'price': '190,00 zł', 'name': 'farbowanie ombre włosy krótkie'}, {'price': '220,00 zł+', 'name': 'ballayage kolor włosy krótkie'}, {'price': '200,00 zł+', 'name': 'ballayage kolory włosy krótkie'}, {'price': '80,00 zł+', 'name': 'fryzury okazjonalne włosy krótkie'}, {'price': '65,00 zł+', 'name': 'zabieg regeneracyjny włosy krótkie'}, {'price': '75,00 zł+', 'name': 'zabieg regeneracyjny strzyżenie włosy krótkie'}, {'price': '170,00 zł+', 'name': 'trwała ondulacja włosy krótkie'}, {'price': '240,00 zł+', 'name': 'prostowanie keratynowe włosy krótkie'}, {'price': '95,00 zł+', 'name': 'strzyżenie damskie włosy średnie'}, {'price': '65,00 zł+', 'name': 'modelowanie włosy średnie'}, {'price': '260,00 zł+', 'name': 'farbowanie strzyżenie modelowanie włosy średnie'}, {'price': '280,00 zł+', 'name': 'dekoloryzacja farbowanie włosy średnie'}, {'price': '260,00 zł+', 'name': 'farbowanie flesz włosy średnie'}, {'price': '270,00 zł+', 'name': 'farbowanie ombre włosy średnie'}, {'price': '390,00 zł+', 'name': 'air touch'}, {'price': '280,00 zł+', 'name': 'balleyage kolor włosy średnie'}, {'price': '280,00 zł+', 'name': 'balleyage kolory włosy średnie'}, {'price': '110,00 zł+', 'name': 'fryzury okazjonalne włosy średnie'}, {'price': '100,00 zł+', 'name': 'zabieg regeneracyjny włosy średnie'}, {'price': '140,00 zł+', 'name': 'zabieg regeneracyjny strzyżenie włosy średnie'}, {'price': '230,00 zł+', 'name': 'trwała ondulacja włosy średnie'}, {'price': '300,00 zł+', 'name': 'prostowanie keratynowe włosy średnie'}, {'price': '110,00 zł', 'name': 'loki modelowanie włosy średnie'}, {'price': '120,00 zł+', 'name': 'strzyżenie damskie włosy długie'}, {'price': '80,00 zł', 'name': 'modelowanie włosy długie'}, {'price': '290,00 zł+', 'name': 'farbowanie strzyżenie modelowanie włosy długie'}, {'price': '320,00 zł+', 'name': 'dekoloryzacja farbowanie włosy długie'}, {'price': '290,00 zł+', 'name': 'farbowanie flesz włosy długie'}, {'price': '300,00 zł+', 'name': 'farbowanie ombre włosy długie'}, {'price': '440,00 zł+', 'name': 'air touch'}, {'price': '350,00 zł+', 'name': 'balleyage włosy długie'}, {'price': '180,00 zł+', 'name': 'zabieg regeneracyjny włosy długie'}, {'price': '190,00 zł+', 'name': 'zabieg regeneracyjny strzyżenie włosy długie'}, {'price': '150,00 zł+', 'name': 'fryzury okazjonalne włosy długie'}, {'price': '280,00 zł+', 'name': 'trwała ondulacja włosy długie'}, {'price': '350,00 zł+', 'name': 'prostowanie keratynowe włosy długie'}, {'price': '130,00 zł', 'name': 'loki modelowanie włosy długie'}]\"),\n",
       " Document(id='95d901c8-89b9-411a-bae8-3fa17a0b9453', metadata={'name': 'Élite Fryzjer', 'rating': '5,0', 'lattitude': 51.1025075, 'longitude': 17.0327102, 'address': 'Czysta 2/1f, 50-013, Wrocław'}, page_content=\"Name: Élite Fryzjer Rating: 5,0 Address: Czysta 2/1f, 50-013, Wrocław  Services: [{'price': '90,00 zł', 'name': 'strzyżenie męskie'}, {'price': '160,00 zł', 'name': 'strzyżenie damskie'}, {'price': '380,00 zł', 'name': 'koloryzacja podstawowa'}, {'price': '150,00 zł', 'name': 'zabiegi pielęgnacyjne'}, {'price': '700,00 zł', 'name': 'nanoplastia'}, {'price': '130,00 zł', 'name': 'modelowanie włosów'}, {'price': '300,00 zł', 'name': 'tonowanie włosów'}, {'price': '160,00 zł', 'name': 'strzyżenie damskie'}, {'price': '90,00 zł', 'name': 'strzyżenie męskie'}, {'price': '60,00 zł', 'name': 'strzyżenie brody'}, {'price': '80,00 zł', 'name': 'strzyżenie maszynką'}, {'price': '80,00 zł', 'name': 'strzyżenie dzieci'}, {'price': '380,00 zł', 'name': 'koloryzacja podstawowa'}, {'price': '430,00 zł', 'name': 'koloryzacja z dekoloryzacją odrostu'}, {'price': '500,00 zł', 'name': 'baleyage'}, {'price': '800,00 zł', 'name': 'dekoloryzacja'}, {'price': '700,00 zł', 'name': 'koloryzacja air touch'}, {'price': '230,00 zł', 'name': 'koloryzacja męska'}, {'price': '700,00 zł', 'name': 'korekta koloru'}, {'price': '550,00 zł', 'name': 'koloryzacja air touch korona'}, {'price': '200,00 zł', 'name': 'stylizacja okolicznościowa'}, {'price': '400,00 zł', 'name': 'trwała'}, {'price': '500,00 zł', 'name': 'botox keratyna'}, {'price': 'Zmienna', 'name': 'przedłużanie hairtalk'}]\"),\n",
       " Document(id='de89fa9d-f033-4220-b1b0-b254a1f70e17', metadata={'name': 'Intencjaruchu', 'rating': '4,9', 'lattitude': 51.1025845, 'longitude': 17.0372825, 'address': 'Hugona Kołłątaja 29, 30, 50-004, Wrocław'}, page_content=\"Name: Intencjaruchu Rating: 4,9 Address: Hugona Kołłątaja 29, 30, 50-004, Wrocław  Services: [{'price': '100,00 zł', 'name': 'strzyżenie włosów haircut'}, {'price': '150,00 zł', 'name': 'komplet strzyżenie broda haircut and beard'}, {'price': '90,00 zł', 'name': 'fade tylko boki maszynką buzz cut'}, {'price': '100,00 zł', 'name': 'strzyżenie włosów haircut'}, {'price': '90,00 zł', 'name': 'fade tylko boki maszynką buzz cut'}, {'price': '130,00 zł', 'name': 'strzyżenie włosów nożyczkami'}, {'price': '60,00 zł', 'name': 'strzyżenie włosów na jedną długość'}, {'price': '70,00 zł+', 'name': 'odsiwianie włosów'}, {'price': '80,00 zł', 'name': 'strzyżenie brody beard trim'}, {'price': '100,00 zł', 'name': 'spa brody'}, {'price': '60,00 zł', 'name': 'strzyżenie brody na jedną długość kontur'}, {'price': '80,00 zł+', 'name': 'odsiwianie brody'}, {'price': '170,00 zł', 'name': 'komplet strzyżenie spa brody'}, {'price': '150,00 zł', 'name': 'komplet strzyżenie broda haircut and beard'}, {'price': '160,00 zł', 'name': 'komplet strzyżenie długie włosy broda'}, {'price': '120,00 zł', 'name': 'komplet strzeżenie włosów na jedną długość broda'}, {'price': '40,00 zł+', 'name': 'mycie włosów modelowanie'}, {'price': '20,00 zł', 'name': 'depilacja woskiem'}]\")]"
      ]
     },
     "execution_count": 63,
     "metadata": {},
     "output_type": "execute_result"
    }
   ],
   "source": [
    "results = booksy_vector_store.similarity_search(\n",
    "    place,\n",
    "    k=5,\n",
    "    filter=generate_square_filter((latitude, longitude), radius_km=distance),\n",
    ")\n",
    "\n",
    "results"
   ]
  },
  {
   "cell_type": "code",
   "execution_count": 64,
   "metadata": {},
   "outputs": [
    {
     "name": "stdout",
     "output_type": "stream",
     "text": [
      " Provide short suummarization based on user query and the documents provided. Recommend the most relevant document.\n",
      "QUERY: \"Find ma a hairdresser that costs less than 100 PLN for a men's haircut near to Galeria Dominikańska, Wrocław\"\n",
      "DOCUMENTS: 0. Metadata: {'name': 'THE MOST WANTED BARBERSHOP 2', 'rating': '4,9', 'lattitude': 51.1084243, 'longitude':\n",
      "17.0313557, 'address': 'Ofiar Oświęcimskich 15, 50-059, Wrocław'}    Rest: Name: THE MOST WANTED BARBERSHOP 2 Rating:\n",
      "4,9 Address: Ofiar Oświęcimskich 15, 50-059, Wrocław  Services: [{'price': '55,00 zł+', 'name': 'strzyżenie męskie\n",
      "krótkie włosy'}, {'price': '95,00 zł+', 'name': 'strzyżenie damskie włosy średnie'}, {'price': '120,00 zł+', 'name':\n",
      "'strzyżenie damskie włosy długie'}, {'price': '20,00 zł', 'name': 'grzywka'}, {'price': 'Darmowa', 'name': 'bezpłatna\n",
      "konsultacja'}, {'price': '55,00 zł+', 'name': 'strzyżenie męskie krótkie włosy'}, {'price': '70,00 zł+', 'name':\n",
      "'strzyżenie męskie włosy długie'}, {'price': '140,00 zł', 'name': 'zabieg odsiwiający strzyżenie'}, {'price': '50,00\n",
      "zł+', 'name': 'strzyżenie maszynka'}, {'price': '160,00 zł+', 'name': 'męska trwała ondulacja włosy krótkie'}, {'price':\n",
      "'70,00 zł+', 'name': 'combo strzyzenie broda'}, {'price': '200,00 zł+', 'name': 'męska trwała ondulacja włosy długie'},\n",
      "{'price': '70,00 zł+', 'name': 'strzyżenie damskie włosy krótkie'}, {'price': '50,00 zł+', 'name': 'modelowanie włosy\n",
      "krótkie'}, {'price': '195,00 zł+', 'name': 'farbowanie strzyżenie modelowanie włosy krótkie'}, {'price': '190,00 zł+',\n",
      "'name': 'dekoloryzacja farbowanie włosy krótkie'}, {'price': '200,00 zł+', 'name': 'farbowanie flesz włosy krótkie'},\n",
      "{'price': '190,00 zł', 'name': 'farbowanie ombre włosy krótkie'}, {'price': '220,00 zł+', 'name': 'ballayage kolor włosy\n",
      "krótkie'}, {'price': '200,00 zł+', 'name': 'ballayage kolory włosy krótkie'}, {'price': '80,00 zł+', 'name': 'fryzury\n",
      "okazjonalne włosy krótkie'}, {'price': '65,00 zł+', 'name': 'zabieg regeneracyjny włosy krótkie'}, {'price': '75,00\n",
      "zł+', 'name': 'zabieg regeneracyjny strzyżenie włosy krótkie'}, {'price': '170,00 zł+', 'name': 'trwała ondulacja włosy\n",
      "krótkie'}, {'price': '240,00 zł+', 'name': 'prostowanie keratynowe włosy krótkie'}, {'price': '95,00 zł+', 'name':\n",
      "'strzyżenie damskie włosy średnie'}, {'price': '65,00 zł+', 'name': 'modelowanie włosy średnie'}, {'price': '260,00\n",
      "zł+', 'name': 'farbowanie strzyżenie modelowanie włosy średnie'}, {'price': '280,00 zł+', 'name': 'dekoloryzacja\n",
      "farbowanie włosy średnie'}, {'price': '260,00 zł+', 'name': 'farbowanie flesz włosy średnie'}, {'price': '270,00 zł+',\n",
      "'name': 'farbowanie ombre włosy średnie'}, {'price': '390,00 zł+', 'name': 'air touch'}, {'price': '280,00 zł+', 'name':\n",
      "'balleyage kolor włosy średnie'}, {'price': '280,00 zł+', 'name': 'balleyage kolory włosy średnie'}, {'price': '110,00\n",
      "zł+', 'name': 'fryzury okazjonalne włosy średnie'}, {'price': '100,00 zł+', 'name': 'zabieg regeneracyjny włosy\n",
      "średnie'}, {'price': '140,00 zł+', 'name': 'zabieg regeneracyjny strzyżenie włosy średnie'}, {'price': '230,00 zł+',\n",
      "'name': 'trwała ondulacja włosy średnie'}, {'price': '300,00 zł+', 'name': 'prostowanie keratynowe włosy średnie'},\n",
      "{'price': '110,00 zł', 'name': 'loki modelowanie włosy średnie'}, {'price': '120,00 zł+', 'name': 'strzyżenie damskie\n",
      "włosy długie'}, {'price': '80,00 zł', 'name': 'modelowanie włosy długie'}, {'price': '290,00 zł+', 'name': 'farbowanie\n",
      "strzyżenie modelowanie włosy długie'}, {'price': '320,00 zł+', 'name': 'dekoloryzacja farbowanie włosy długie'},\n",
      "{'price': '290,00 zł+', 'name': 'farbowanie flesz włosy długie'}, {'price': '300,00 zł+', 'name': 'farbowanie ombre\n",
      "włosy długie'}, {'price': '440,00 zł+', 'name': 'air touch'}, {'price': '350,00 zł+', 'name': 'balleyage włosy długie'},\n",
      "{'price': '180,00 zł+', 'name': 'zabieg regeneracyjny włosy długie'}, {'price': '190,00 zł+', 'name': 'zabieg\n",
      "regeneracyjny strzyżenie włosy długie'}, {'price': '150,00 zł+', 'name': 'fryzury okazjonalne włosy długie'}, {'price':\n",
      "'280,00 zł+', 'name': 'trwała ondulacja włosy długie'}, {'price': '350,00 zł+', 'name': 'prostowanie keratynowe włosy\n",
      "długie'}, {'price': '130,00 zł', 'name': 'loki modelowanie włosy długie'}] 1. Metadata: {'name': 'Élite Fryzjer',\n",
      "'rating': '5,0', 'lattitude': 51.1025075, 'longitude': 17.0327102, 'address': 'Czysta 2/1f, 50-013, Wrocław'}    Rest:\n",
      "Name: Élite Fryzjer Rating: 5,0 Address: Czysta 2/1f, 50-013, Wrocław  Services: [{'price': '90,00 zł', 'name':\n",
      "'strzyżenie męskie'}, {'price': '160,00 zł', 'name': 'strzyżenie damskie'}, {'price': '380,00 zł', 'name': 'koloryzacja\n",
      "podstawowa'}, {'price': '150,00 zł', 'name': 'zabiegi pielęgnacyjne'}, {'price': '700,00 zł', 'name': 'nanoplastia'},\n",
      "{'price': '130,00 zł', 'name': 'modelowanie włosów'}, {'price': '300,00 zł', 'name': 'tonowanie włosów'}, {'price':\n",
      "'160,00 zł', 'name': 'strzyżenie damskie'}, {'price': '90,00 zł', 'name': 'strzyżenie męskie'}, {'price': '60,00 zł',\n",
      "'name': 'strzyżenie brody'}, {'price': '80,00 zł', 'name': 'strzyżenie maszynką'}, {'price': '80,00 zł', 'name':\n",
      "'strzyżenie dzieci'}, {'price': '380,00 zł', 'name': 'koloryzacja podstawowa'}, {'price': '430,00 zł', 'name':\n",
      "'koloryzacja z dekoloryzacją odrostu'}, {'price': '500,00 zł', 'name': 'baleyage'}, {'price': '800,00 zł', 'name':\n",
      "'dekoloryzacja'}, {'price': '700,00 zł', 'name': 'koloryzacja air touch'}, {'price': '230,00 zł', 'name': 'koloryzacja\n",
      "męska'}, {'price': '700,00 zł', 'name': 'korekta koloru'}, {'price': '550,00 zł', 'name': 'koloryzacja air touch\n",
      "korona'}, {'price': '200,00 zł', 'name': 'stylizacja okolicznościowa'}, {'price': '400,00 zł', 'name': 'trwała'},\n",
      "{'price': '500,00 zł', 'name': 'botox keratyna'}, {'price': 'Zmienna', 'name': 'przedłużanie hairtalk'}] 2. Metadata:\n",
      "{'name': 'Intencjaruchu', 'rating': '4,9', 'lattitude': 51.1025845, 'longitude': 17.0372825, 'address': 'Hugona\n",
      "Kołłątaja 29, 30, 50-004, Wrocław'}    Rest: Name: Intencjaruchu Rating: 4,9 Address: Hugona Kołłątaja 29, 30, 50-004,\n",
      "Wrocław  Services: [{'price': '100,00 zł', 'name': 'strzyżenie włosów haircut'}, {'price': '150,00 zł', 'name': 'komplet\n",
      "strzyżenie broda haircut and beard'}, {'price': '90,00 zł', 'name': 'fade tylko boki maszynką buzz cut'}, {'price':\n",
      "'100,00 zł', 'name': 'strzyżenie włosów haircut'}, {'price': '90,00 zł', 'name': 'fade tylko boki maszynką buzz cut'},\n",
      "{'price': '130,00 zł', 'name': 'strzyżenie włosów nożyczkami'}, {'price': '60,00 zł', 'name': 'strzyżenie włosów na\n",
      "jedną długość'}, {'price': '70,00 zł+', 'name': 'odsiwianie włosów'}, {'price': '80,00 zł', 'name': 'strzyżenie brody\n",
      "beard trim'}, {'price': '100,00 zł', 'name': 'spa brody'}, {'price': '60,00 zł', 'name': 'strzyżenie brody na jedną\n",
      "długość kontur'}, {'price': '80,00 zł+', 'name': 'odsiwianie brody'}, {'price': '170,00 zł', 'name': 'komplet strzyżenie\n",
      "spa brody'}, {'price': '150,00 zł', 'name': 'komplet strzyżenie broda haircut and beard'}, {'price': '160,00 zł',\n",
      "'name': 'komplet strzyżenie długie włosy broda'}, {'price': '120,00 zł', 'name': 'komplet strzeżenie włosów na jedną\n",
      "długość broda'}, {'price': '40,00 zł+', 'name': 'mycie włosów modelowanie'}, {'price': '20,00 zł', 'name': 'depilacja\n",
      "woskiem'}]  RECOMMENDATION:\n",
      "\n",
      " Based on the provided documents, the most relevant hairdresser that meets your requirements is:  0. THE MOST WANTED\n",
      "BARBERSHOP 2    - Address: Ofiar Oświęcimskich 15, 50-059, Wrocław    - Services: Men's haircut for short hair costs\n",
      "55,00 zł+, which is less than 100 PLN.  This hairdresser is the best match for your query as it offers men's haircuts\n",
      "for less than 100 PLN and is located near Galeria Dominikańska in Wrocław.\n"
     ]
    }
   ],
   "source": [
    "documents = documents_to_string(results)\n",
    "\n",
    "answer = summarize_results(QUERY, documents)"
   ]
  },
  {
   "cell_type": "code",
   "execution_count": 65,
   "metadata": {},
   "outputs": [
    {
     "name": "stdout",
     "output_type": "stream",
     "text": [
      " Based on the provided documents, the most relevant hairdresser that meets your requirements is:  0. THE MOST WANTED\n",
      "BARBERSHOP 2    - Address: Ofiar Oświęcimskich 15, 50-059, Wrocław    - Services: Men's haircut for short hair costs\n",
      "55,00 zł+, which is less than 100 PLN.  This hairdresser is the best match for your query as it offers men's haircuts\n",
      "for less than 100 PLN and is located near Galeria Dominikańska in Wrocław.\n"
     ]
    }
   ],
   "source": [
    "print('\\n'.join(textwrap.wrap(answer, width=TEXT_WRAP_WIDTH)))"
   ]
  }
 ],
 "metadata": {
  "kernelspec": {
   "display_name": "Python 3 (ipykernel)",
   "language": "python",
   "name": "python3"
  },
  "language_info": {
   "codemirror_mode": {
    "name": "ipython",
    "version": 3
   },
   "file_extension": ".py",
   "mimetype": "text/x-python",
   "name": "python",
   "nbconvert_exporter": "python",
   "pygments_lexer": "ipython3",
   "version": "3.10.11"
  }
 },
 "nbformat": 4,
 "nbformat_minor": 2
}
