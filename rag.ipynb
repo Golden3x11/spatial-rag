{
 "cells": [
  {
   "cell_type": "code",
   "execution_count": 1,
   "metadata": {},
   "outputs": [],
   "source": [
    "import os\n",
    "import torch\n",
    "import numpy as np\n",
    "from golemai.nlp.llm_resp_gen import LLMRespGen\n",
    "import faiss\n",
    "from langchain_community.docstore.in_memory import InMemoryDocstore\n",
    "from langchain_community.vectorstores import FAISS\n",
    "from langchain_huggingface import HuggingFaceEmbeddings\n",
    "from dotenv import load_dotenv\n",
    "\n",
    "load_dotenv()\n",
    "os.environ['HF_HOME'] = '/net/tscratch/people/plgkonkie311/cache/'"
   ]
  },
  {
   "cell_type": "code",
   "execution_count": 2,
   "metadata": {},
   "outputs": [
    {
     "name": "stdout",
     "output_type": "stream",
     "text": [
      "/net/tscratch/people/plgkonkie311/spatial\n"
     ]
    }
   ],
   "source": [
    "cd spatial"
   ]
  },
  {
   "cell_type": "code",
   "execution_count": 3,
   "metadata": {},
   "outputs": [],
   "source": [
    "from prompts import PROMPT_NER_DISTANCE_WHERE, PROMPT_FIND_LATITUDE_LONGITUDE, PROMPT_END"
   ]
  },
  {
   "cell_type": "code",
   "execution_count": 4,
   "metadata": {},
   "outputs": [],
   "source": [
    "EMBEDDER_ID=\"intfloat/multilingual-e5-large-instruct\""
   ]
  },
  {
   "cell_type": "code",
   "execution_count": 5,
   "metadata": {},
   "outputs": [],
   "source": [
    "load_dotenv()\n",
    "api_key = os.getenv(\"CLARIN_KEY\")"
   ]
  },
  {
   "cell_type": "code",
   "execution_count": 6,
   "metadata": {},
   "outputs": [
    {
     "name": "stderr",
     "output_type": "stream",
     "text": [
      "Model type is 'api'. Setting generation config for API.\n"
     ]
    }
   ],
   "source": [
    "llm_rg = LLMRespGen(\n",
    "    id_col='id',\n",
    "    model_type='api',\n",
    "    system_msg='You are a helpful assistant.',\n",
    "    prompt_template='',\n",
    "    batch_size=1,\n",
    "    api_url='https://services.clarin-pl.eu/api/v1/oapi',\n",
    "    api_key=api_key,\n",
    "    timeout=200,\n",
    ").set_generation_config(\n",
    "    model_id='mixtral-8x22B',\n",
    "\n",
    ")\n"
   ]
  },
  {
   "cell_type": "code",
   "execution_count": 7,
   "metadata": {},
   "outputs": [
    {
     "name": "stderr",
     "output_type": "stream",
     "text": [
      "2025-01-27 14:37:14.664397: E external/local_xla/xla/stream_executor/cuda/cuda_fft.cc:477] Unable to register cuFFT factory: Attempting to register factory for plugin cuFFT when one has already been registered\n",
      "WARNING: All log messages before absl::InitializeLog() is called are written to STDERR\n",
      "E0000 00:00:1737985034.788559 3445372 cuda_dnn.cc:8310] Unable to register cuDNN factory: Attempting to register factory for plugin cuDNN when one has already been registered\n",
      "E0000 00:00:1737985034.850351 3445372 cuda_blas.cc:1418] Unable to register cuBLAS factory: Attempting to register factory for plugin cuBLAS when one has already been registered\n",
      "2025-01-27 14:37:15.117012: I tensorflow/core/platform/cpu_feature_guard.cc:210] This TensorFlow binary is optimized to use available CPU instructions in performance-critical operations.\n",
      "To enable the following instructions: AVX2 FMA, in other operations, rebuild TensorFlow with the appropriate compiler flags.\n"
     ]
    }
   ],
   "source": [
    "embeddings = HuggingFaceEmbeddings(model_name=EMBEDDER_ID)\n",
    "\n",
    "location_vector_store = FAISS.load_local(\n",
    "    'all_wroclaw_new',\n",
    "    embeddings,\n",
    "    allow_dangerous_deserialization=True,\n",
    ")"
   ]
  },
  {
   "cell_type": "code",
   "execution_count": 8,
   "metadata": {},
   "outputs": [],
   "source": [
    "import textwrap\n",
    "TEXT_WRAP_WIDTH = 120\n",
    "\n",
    "def generate_response(QUERY, verbose=False, **kwargs):\n",
    "    prompts = llm_rg.prepare_prompt(\n",
    "        query=QUERY,\n",
    "        **kwargs,\n",
    "    )\n",
    "\n",
    "    if verbose:\n",
    "        print(\"\\n\".join(textwrap.wrap(prompts, width=TEXT_WRAP_WIDTH)))\n",
    "        print()\n",
    "\n",
    "    result = llm_rg._generate_llm_response(\n",
    "        inputs=prompts,\n",
    "    )\n",
    "\n",
    "    if verbose:\n",
    "        print(\"\\n\".join(textwrap.wrap(result, width=TEXT_WRAP_WIDTH)))\n",
    "\n",
    "    return result\n",
    "\n",
    "def extract_entities_from_documents(query, documents):\n",
    "    llm_rg.set_prompt_template(PROMPT_NER_DISTANCE_WHERE)\n",
    "\n",
    "    result = generate_response(query, verbose=True)\n",
    "\n",
    "    location = result.split(\"`LOCATION_VECTOR_DB_PROMPT`:\")[-1].split(\"`PLACE_VECTOR_DB_PROMPT`\")[0].strip()\n",
    "    place = result.split(\"`PLACE_VECTOR_DB_PROMPT`:\")[-1].split(\"`DISTANCE`\")[0].strip()\n",
    "    distance = result.split(\"`DISTANCE`:\")[-1].split(\"km\")[0].strip()\n",
    "    distance = float(distance) if distance.isdigit() else distance\n",
    "\n",
    "    return location, place, distance\n",
    "\n",
    "\n",
    "def extract_lat_lon_from_documents(query, documents):\n",
    "    llm_rg.set_prompt_template(PROMPT_FIND_LATITUDE_LONGITUDE)\n",
    "\n",
    "    result = generate_response(query, documents=documents, verbose=True)\n",
    "\n",
    "    latitude = result.split(\"`LATITUDE`:\")[-1].split(\"`LONGITUDE`\")[0].strip()\n",
    "    longitude = result.split(\"`LONGITUDE`:\")[-1].strip()\n",
    "    latitude, longitude = float(latitude), float(longitude)\n",
    "\n",
    "    return latitude, longitude\n",
    "\n",
    "def summarize_results(query, documents):\n",
    "    llm_rg.set_prompt_template(PROMPT_END)\n",
    "\n",
    "    result = generate_response(query, documents=documents, verbose=True)\n",
    "\n",
    "    return result\n",
    "\n",
    "def documents_to_string(results):\n",
    "    return \"\\n\".join([f\"{i}. Metadata: {doc.metadata}\\n   Rest: {doc.page_content}\" for i, doc in enumerate(results)])\n",
    "\n",
    "\n",
    "def generate_square_filter(center, radius_km=5, amenity=None):\n",
    "    lat, lon = center\n",
    "    \n",
    "    # Approximate degrees per kilometer for latitude and longitude\n",
    "    lat_delta = radius_km / 110.574  # 1 degree latitude = 110.574 km\n",
    "    lon_delta = radius_km / (111.320 * np.cos(np.radians(lat)))  # 1 degree longitude = 111.320 km * cos(latitude)\n",
    "\n",
    "    # Create the bounding box as a filter\n",
    "    filter_query = {\n",
    "        \"$and\": [\n",
    "            {\"lattitude\": {\"$gte\": lat - lat_delta}},  # min latitude\n",
    "            {\"lattitude\": {\"$lte\": lat + lat_delta}},  # max latitude\n",
    "            {\"longitude\": {\"$gte\": lon - lon_delta}},  # min longitude\n",
    "            {\"longitude\": {\"$lte\": lon + lon_delta}},  # max longitude\n",
    "        ]\n",
    "    }\n",
    "    if amenity:\n",
    "        filter_query[\"$and\"].append({\"amenity\": amenity})\n",
    "    return filter_query"
   ]
  },
  {
   "cell_type": "code",
   "execution_count": 9,
   "metadata": {},
   "outputs": [],
   "source": [
    "# QUERY = \"Find me a Polish restaurant near ulica Legnicka 65, Wrocław\"\n",
    "\n",
    "QUERY = \"Find me a place where i can buy a good coffee near to plac Grunwaldzki, Wrocław\""
   ]
  },
  {
   "cell_type": "code",
   "execution_count": 10,
   "metadata": {},
   "outputs": [
    {
     "name": "stdout",
     "output_type": "stream",
     "text": [
      " Please extract the following fields from the user's query:  1. `LOCATION_VECTOR_DB_PROMPT`: Provide a representation of\n",
      "the location mentioned in the user's query. This should correspond to a specific place or landmark (e.g., \"Dworzec\n",
      "Wrocław Główny\"). It should have been extracted in OSM format, e.g., 'amenity': 'restaurant', 'cuisine': 'polish'. if\n",
      "you can find address also pass it with prefix addr:city, addr:street, addr:housenumber, addr:postcode.     2.\n",
      "`PLACE_VECTOR_DB_PROMPT`: Provide a representation of the type of place or business mentioned in the query (e.g.,\n",
      "\"restaurant\", \"hotel\", etc.). In the given example, it would be a \"Polish restaurant\". It should have been extracted in\n",
      "OSM format, e.g., 'amenity': 'restaurant', 'cuisine': 'polish'.  3. `DISTANCE`: If the query contains information about\n",
      "the proximity or distance, either explicitly or implicitly, include it. This could be a specific distance (e.g., \"5 km\n",
      "away\") or a general description (e.g., \"near\"). If available if not thy to change it to a number e.g., \"near\" -> \"1 km\"]\n",
      "Provide only number with km postfix. Example Query:  \"Find me a Polish restaurant near Dworzec Wrocław Główny.  You can\n",
      "add additional instructions to OSM format like steet, housenumber, city, postcode, etc. if you can find it.  Expected\n",
      "Extraction: `LOCATION_VECTOR_DB_PROMPT`: 'name': 'Dworzec Wrocław Główny', 'description': 'train station'\n",
      "`PLACE_VECTOR_DB_PROMPT`: 'amenity': 'restaurant', 'cuisine': 'polish' `DISTANCE`: 1 km  Query: \"Find me a place where i\n",
      "can buy a good coffee near to plac Grunwaldzki, Wrocław\"\n",
      "\n",
      " `LOCATION_VECTOR_DB_PROMPT`: 'name': 'plac Grunwaldzki', 'description': 'square', 'addr:city': 'Wrocław'\n",
      "`PLACE_VECTOR_DB_PROMPT`: 'amenity': 'cafe' `DISTANCE`: 1 km\n"
     ]
    }
   ],
   "source": [
    "location, place, distance = extract_entities_from_documents(QUERY, None)"
   ]
  },
  {
   "cell_type": "code",
   "execution_count": 11,
   "metadata": {},
   "outputs": [
    {
     "data": {
      "text/plain": [
       "(\"'name': 'plac Grunwaldzki', 'description': 'square', 'addr:city': 'Wrocław'\",\n",
       " \"'amenity': 'cafe'\",\n",
       " 1.0)"
      ]
     },
     "execution_count": 11,
     "metadata": {},
     "output_type": "execute_result"
    }
   ],
   "source": [
    "location, place, distance"
   ]
  },
  {
   "cell_type": "code",
   "execution_count": 12,
   "metadata": {},
   "outputs": [
    {
     "data": {
      "text/plain": [
       "[Document(id='660d15c3-d6b9-4427-b02e-511770e4fce4', metadata={'amenity': 'cafe', 'name': 'Gorąco Polecam', 'address': 'plac Grunwaldzki 22, Wrocław', 'lattitude': 51.1129748, 'longitude': 17.0596745}, page_content='{\"addr:city\": \"Wroc\\\\u0142aw\", \"addr:housenumber\": \"22\", \"addr:postcode\": \"50-363\", \"addr:street\": \"plac Grunwaldzki\", \"amenity\": \"cafe\", \"level\": \"0\", \"name\": \"Gor\\\\u0105co Polecam\", \"shop\": \"bakery\"}'),\n",
       " Document(id='438b9138-5484-4c38-976b-06bf46a0deee', metadata={'amenity': 'restaurant', 'name': 'Bulvarova', 'address': 'Rybacka 23, Wrocław', 'lattitude': 51.1155595, 'longitude': 17.0184947}, page_content='{\"addr:city\": \"Wroc\\\\u0142aw\", \"addr:housenumber\": \"23\", \"addr:postcode\": \"53-656\", \"addr:street\": \"Rybacka\", \"amenity\": \"restaurant\", \"cuisine\": \"pizza;international\", \"name\": \"Bulvarova\", \"website\": \"https://bulvarova.pl\"}'),\n",
       " Document(id='270bbfb7-7410-4f57-85ed-cf303a1904fe', metadata={'amenity': 'cafe', 'name': 'Noon', 'address': 'Henryka Sienkiewicza 20B, Wrocław', 'lattitude': 51.1173879, 'longitude': 17.045289}, page_content='{\"addr:city\": \"Wroc\\\\u0142aw\", \"addr:housenumber\": \"20B\", \"addr:postcode\": \"50-335\", \"addr:street\": \"Henryka Sienkiewicza\", \"amenity\": \"cafe\", \"internet_access\": \"wlan\", \"name\": \"Noon\"}'),\n",
       " Document(id='a4f71c05-fce5-494d-9b1d-aef76b54266d', metadata={'amenity': 'restaurant', 'name': 'Bella Storia', 'address': 'plac Grunwaldzki 53, Wrocław', 'lattitude': 51.1139291, 'longitude': 17.06995}, page_content='{\"addr:city\": \"Wroc\\\\u0142aw\", \"addr:housenumber\": \"53\", \"addr:postcode\": \"50-366\", \"addr:street\": \"plac Grunwaldzki\", \"amenity\": \"restaurant\", \"cuisine\": \"italian;pizza\", \"delivery\": \"yes\", \"name\": \"Bella Storia\", \"old_name\": \"Grana Padano\", \"opening_hours\": \"Mo-Su 11:00-22:00\", \"start_date\": \"2018-01-19\", \"takeaway\": \"yes\", \"website\": \"https://restauracjabellastoria.pl\"}'),\n",
       " Document(id='a1bbdb9a-afc2-4813-91df-7838231262fb', metadata={'amenity': 'arts_centre', 'name': 'WSS Gniazdko', 'address': 'Unknown , Wrocław', 'lattitude': 51.1246142, 'longitude': 17.0286624}, page_content='{\"addr:city\": \"Wroc\\\\u0142aw\", \"addr:country\": \"PL\", \"addr:postcode\": \"50-221\", \"amenity\": \"arts_centre\", \"name\": \"WSS Gniazdko\"}')]"
      ]
     },
     "execution_count": 12,
     "metadata": {},
     "output_type": "execute_result"
    }
   ],
   "source": [
    "results = location_vector_store.similarity_search(\n",
    "    location,\n",
    "    k=5,\n",
    ")\n",
    "\n",
    "results"
   ]
  },
  {
   "cell_type": "code",
   "execution_count": 13,
   "metadata": {},
   "outputs": [
    {
     "name": "stdout",
     "output_type": "stream",
     "text": [
      " From provided Documents, find the latitude and longitude of the location mentioned in the user's query. If it is not\n",
      "explicitly mentioned, try to extract it from the metadata of the documents. It can be near the location mentioned in the\n",
      "query.  QUERY: \"'name': 'plac Grunwaldzki', 'description': 'square', 'addr:city': 'Wrocław'\"  DOCUMENTS: 0. Metadata:\n",
      "{'amenity': 'cafe', 'name': 'Gorąco Polecam', 'address': 'plac Grunwaldzki 22, Wrocław', 'lattitude': 51.1129748,\n",
      "'longitude': 17.0596745}    Rest: {\"addr:city\": \"Wroc\\u0142aw\", \"addr:housenumber\": \"22\", \"addr:postcode\": \"50-363\",\n",
      "\"addr:street\": \"plac Grunwaldzki\", \"amenity\": \"cafe\", \"level\": \"0\", \"name\": \"Gor\\u0105co Polecam\", \"shop\": \"bakery\"} 1.\n",
      "Metadata: {'amenity': 'restaurant', 'name': 'Bulvarova', 'address': 'Rybacka 23, Wrocław', 'lattitude': 51.1155595,\n",
      "'longitude': 17.0184947}    Rest: {\"addr:city\": \"Wroc\\u0142aw\", \"addr:housenumber\": \"23\", \"addr:postcode\": \"53-656\",\n",
      "\"addr:street\": \"Rybacka\", \"amenity\": \"restaurant\", \"cuisine\": \"pizza;international\", \"name\": \"Bulvarova\", \"website\":\n",
      "\"https://bulvarova.pl\"} 2. Metadata: {'amenity': 'cafe', 'name': 'Noon', 'address': 'Henryka Sienkiewicza 20B, Wrocław',\n",
      "'lattitude': 51.1173879, 'longitude': 17.045289}    Rest: {\"addr:city\": \"Wroc\\u0142aw\", \"addr:housenumber\": \"20B\",\n",
      "\"addr:postcode\": \"50-335\", \"addr:street\": \"Henryka Sienkiewicza\", \"amenity\": \"cafe\", \"internet_access\": \"wlan\", \"name\":\n",
      "\"Noon\"} 3. Metadata: {'amenity': 'restaurant', 'name': 'Bella Storia', 'address': 'plac Grunwaldzki 53, Wrocław',\n",
      "'lattitude': 51.1139291, 'longitude': 17.06995}    Rest: {\"addr:city\": \"Wroc\\u0142aw\", \"addr:housenumber\": \"53\",\n",
      "\"addr:postcode\": \"50-366\", \"addr:street\": \"plac Grunwaldzki\", \"amenity\": \"restaurant\", \"cuisine\": \"italian;pizza\",\n",
      "\"delivery\": \"yes\", \"name\": \"Bella Storia\", \"old_name\": \"Grana Padano\", \"opening_hours\": \"Mo-Su 11:00-22:00\",\n",
      "\"start_date\": \"2018-01-19\", \"takeaway\": \"yes\", \"website\": \"https://restauracjabellastoria.pl\"} 4. Metadata: {'amenity':\n",
      "'arts_centre', 'name': 'WSS Gniazdko', 'address': 'Unknown , Wrocław', 'lattitude': 51.1246142, 'longitude': 17.0286624}\n",
      "Rest: {\"addr:city\": \"Wroc\\u0142aw\", \"addr:country\": \"PL\", \"addr:postcode\": \"50-221\", \"amenity\": \"arts_centre\", \"name\":\n",
      "\"WSS Gniazdko\"}  Expected Extraction: `EXPLANATION`: (short explanation of how the latitude and longitude were\n",
      "extracted) `LATITUDE`: (latitude value) `LONGITUDE`: (longitude value)\n",
      "\n",
      " `EXPLANATION`: The latitude and longitude were extracted from the metadata of the document with index 3, which is the\n",
      "only document that matches the 'plac Grunwaldzki' location mentioned in the query.  `LATITUDE`: 51.1139291  `LONGITUDE`:\n",
      "17.06995\n"
     ]
    }
   ],
   "source": [
    "documents = documents_to_string(results)\n",
    "\n",
    "\n",
    "latitude, longitude = extract_lat_lon_from_documents(location, documents)"
   ]
  },
  {
   "cell_type": "code",
   "execution_count": 14,
   "metadata": {},
   "outputs": [
    {
     "data": {
      "text/plain": [
       "(51.1139291, 17.06995, \"'amenity': 'cafe'\")"
      ]
     },
     "execution_count": 14,
     "metadata": {},
     "output_type": "execute_result"
    }
   ],
   "source": [
    "latitude, longitude, place"
   ]
  },
  {
   "cell_type": "code",
   "execution_count": 15,
   "metadata": {},
   "outputs": [
    {
     "data": {
      "text/plain": [
       "[Document(id='3daa421d-33ed-42cc-907a-5dafa50ffbb2', metadata={'amenity': 'cafe', 'name': 'Dodo Cafe', 'address': 'Unknown , Unknown', 'lattitude': 51.1053122, 'longitude': 17.0745833}, page_content='{\"amenity\": \"cafe\", \"name\": \"Dodo Cafe\", \"street_vendor\": \"yes\"}')]"
      ]
     },
     "execution_count": 15,
     "metadata": {},
     "output_type": "execute_result"
    }
   ],
   "source": [
    "results = location_vector_store.similarity_search(\n",
    "    place,\n",
    "    k=5,\n",
    "    filter=generate_square_filter((latitude, longitude), radius_km=distance),\n",
    ")\n",
    "\n",
    "\n",
    "results"
   ]
  },
  {
   "cell_type": "code",
   "execution_count": 16,
   "metadata": {},
   "outputs": [
    {
     "name": "stdout",
     "output_type": "stream",
     "text": [
      " Provide short suummarization based on user query and the documents provided. Recommend the most relevant document.\n",
      "Write it short and concise.  QUERY: \"Find me a place where i can buy a good coffee near to plac Grunwaldzki, Wrocław\"\n",
      "DOCUMENTS: 0. Metadata: {'amenity': 'cafe', 'name': 'Dodo Cafe', 'address': 'Unknown , Unknown', 'lattitude':\n",
      "51.1053122, 'longitude': 17.0745833}    Rest: {\"amenity\": \"cafe\", \"name\": \"Dodo Cafe\", \"street_vendor\": \"yes\"}\n",
      "RECOMMENDATION:\n",
      "\n",
      " Recommendation: Dodo Cafe is a suitable option for you. It's a cafe located near Plac Grunwaldzki in Wrocław. However,\n",
      "the exact address is unknown. It's worth noting that it's a street vendor, so you might find it in the vicinity of Plac\n",
      "Grunwaldzki.\n"
     ]
    }
   ],
   "source": [
    "documents = documents_to_string(results)\n",
    "\n",
    "answer = summarize_results(QUERY, documents)"
   ]
  },
  {
   "cell_type": "code",
   "execution_count": 17,
   "metadata": {},
   "outputs": [
    {
     "name": "stdout",
     "output_type": "stream",
     "text": [
      " Recommendation: Dodo Cafe is a suitable option for you. It's a cafe located near Plac Grunwaldzki in Wrocław. However,\n",
      "the exact address is unknown. It's worth noting that it's a street vendor, so you might find it in the vicinity of Plac\n",
      "Grunwaldzki.\n"
     ]
    }
   ],
   "source": [
    "print('\\n'.join(textwrap.wrap(answer, width=TEXT_WRAP_WIDTH)))"
   ]
  },
  {
   "cell_type": "markdown",
   "metadata": {},
   "source": [
    "# Booksy"
   ]
  },
  {
   "cell_type": "code",
   "execution_count": 18,
   "metadata": {},
   "outputs": [],
   "source": [
    "embeddings = HuggingFaceEmbeddings(model_name=EMBEDDER_ID)\n",
    "\n",
    "booksy_vector_store = FAISS.load_local(\n",
    "    'booksy_wroclaw_new',\n",
    "    embeddings,\n",
    "    allow_dangerous_deserialization=True,\n",
    ")"
   ]
  },
  {
   "cell_type": "code",
   "execution_count": 19,
   "metadata": {},
   "outputs": [],
   "source": [
    "# QUERY = \"Find me a hairdresser that offers hair coloring near to plac Grunwaldzki, Wrocław\"\n",
    "\n",
    "QUERY = \"Find ma a hairdresser that costs less than 100 PLN for a men's haircut near to Galeria Dominikańska, Wrocław\""
   ]
  },
  {
   "cell_type": "code",
   "execution_count": 20,
   "metadata": {},
   "outputs": [
    {
     "name": "stdout",
     "output_type": "stream",
     "text": [
      " Please extract the following fields from the user's query:  1. `LOCATION_VECTOR_DB_PROMPT`: Provide a representation of\n",
      "the location mentioned in the user's query. This should correspond to a specific place or landmark (e.g., \"Dworzec\n",
      "Wrocław Główny\"). It should have been extracted in OSM format, e.g., 'amenity': 'restaurant', 'cuisine': 'polish'. if\n",
      "you can find address also pass it with prefix addr:city, addr:street, addr:housenumber, addr:postcode.     2.\n",
      "`PLACE_VECTOR_DB_PROMPT`: Provide a representation of the type of place or business mentioned in the query (e.g.,\n",
      "\"restaurant\", \"hotel\", etc.). In the given example, it would be a \"Polish restaurant\". It should have been extracted in\n",
      "OSM format, e.g., 'amenity': 'restaurant', 'cuisine': 'polish'.  3. `DISTANCE`: If the query contains information about\n",
      "the proximity or distance, either explicitly or implicitly, include it. This could be a specific distance (e.g., \"5 km\n",
      "away\") or a general description (e.g., \"near\"). If available if not thy to change it to a number e.g., \"near\" -> \"1 km\"]\n",
      "Provide only number with km postfix. Example Query:  \"Find me a Polish restaurant near Dworzec Wrocław Główny.  You can\n",
      "add additional instructions to OSM format like steet, housenumber, city, postcode, etc. if you can find it.  Expected\n",
      "Extraction: `LOCATION_VECTOR_DB_PROMPT`: 'name': 'Dworzec Wrocław Główny', 'description': 'train station'\n",
      "`PLACE_VECTOR_DB_PROMPT`: 'amenity': 'restaurant', 'cuisine': 'polish' `DISTANCE`: 1 km  Query: \"Find ma a hairdresser\n",
      "that costs less than 100 PLN for a men's haircut near to Galeria Dominikańska, Wrocław\"\n",
      "\n",
      " `LOCATION_VECTOR_DB_PROMPT`: 'name': 'Galeria Dominikańska', 'description': 'shopping mall', 'addr:city': 'Wrocław'\n",
      "`PLACE_VECTOR_DB_PROMPT`: 'shop': 'hairdresser', 'price': 'less than 100 PLN for a men's haircut' `DISTANCE`: 1 km\n"
     ]
    }
   ],
   "source": [
    "location, place, distance = extract_entities_from_documents(QUERY, None)"
   ]
  },
  {
   "cell_type": "code",
   "execution_count": 21,
   "metadata": {},
   "outputs": [
    {
     "data": {
      "text/plain": [
       "(\"'name': 'Galeria Dominikańska', 'description': 'shopping mall', 'addr:city': 'Wrocław'\",\n",
       " \"'shop': 'hairdresser', 'price': 'less than 100 PLN for a men's haircut'\",\n",
       " 1.0)"
      ]
     },
     "execution_count": 21,
     "metadata": {},
     "output_type": "execute_result"
    }
   ],
   "source": [
    "location, place, distance"
   ]
  },
  {
   "cell_type": "code",
   "execution_count": 22,
   "metadata": {},
   "outputs": [
    {
     "data": {
      "text/plain": [
       "[Document(id='f7fd476d-a60b-4dd2-82da-3d8397e3dd1c', metadata={'amenity': 'marketplace', 'name': 'C.H. TARGET', 'address': 'Henryka Michała Kamieńskiego 14, Wrocław', 'lattitude': 51.1412245, 'longitude': 17.0343133}, page_content='{\"addr:city\": \"Wroc\\\\u0142aw\", \"addr:housenumber\": \"14\", \"addr:postcode\": \"51-124\", \"addr:street\": \"Henryka Micha\\\\u0142a Kamie\\\\u0144skiego\", \"amenity\": \"marketplace\", \"name\": \"C.H. TARGET\"}'),\n",
       " Document(id='247ba7fe-a420-45e5-8f01-feae96f9e435', metadata={'amenity': 'monastery', 'name': 'Refektarz', 'address': 'plac Dominikański 2-4, Wrocław', 'lattitude': 51.1092091, 'longitude': 17.0403065}, page_content='{\"addr:city\": \"Wroc\\\\u0142aw\", \"addr:country\": \"PL\", \"addr:housenumber\": \"2-4\", \"addr:postcode\": \"50-159\", \"addr:street\": \"plac Dominika\\\\u0144ski\", \"addr:street:sym_ul\": \"04103\", \"amenity\": \"monastery\", \"image\": \"https://photos.app.goo.gl/PnhinPXQh9QtAxwYA\", \"name\": \"Refektarz\"}'),\n",
       " Document(id='61bd736b-d450-4568-9099-0815b8e4ea49', metadata={'amenity': 'restaurant', 'name': 'Katedralna', 'address': 'Świętego Idziego 2, Wrocław', 'lattitude': 51.115196, 'longitude': 17.0451919}, page_content='{\"addr:city\": \"Wroc\\\\u0142aw\", \"addr:housenumber\": \"2\", \"addr:postcode\": \"50-328\", \"addr:street\": \"\\\\u015awi\\\\u0119tego Idziego\", \"amenity\": \"restaurant\", \"cuisine\": \"international\", \"name\": \"Katedralna\"}'),\n",
       " Document(id='b1a45af1-b8ee-4ed6-a53e-c650adca799c', metadata={'amenity': 'fast_food', 'name': \"Domino's Pizza\", 'address': 'Tadeusza Kościuszki 89, Wrocław', 'lattitude': 51.1007745, 'longitude': 17.0413763}, page_content='{\"addr:city\": \"Wroc\\\\u0142aw\", \"addr:housenumber\": \"89\", \"addr:postcode\": \"50-441\", \"addr:street\": \"Tadeusza Ko\\\\u015bciuszki\", \"amenity\": \"fast_food\", \"brand\": \"Domino\\'s\", \"brand:wikidata\": \"Q839466\", \"cuisine\": \"pizza\", \"delivery\": \"yes\", \"name\": \"Domino\\'s Pizza\", \"opening_hours\": \"Su-Th 10:00-23:00; Fr,Sa 11:00-24:00\", \"takeaway\": \"yes\", \"website\": \"https://www.dominospizza.pl\"}'),\n",
       " Document(id='c4c16689-0526-4a42-8dee-a377539fe185', metadata={'amenity': 'fast_food', 'name': \"Domino's Pizza\", 'address': 'Antoniego Słonimskiego 3c, Wrocław', 'lattitude': 51.1297383, 'longitude': 17.045166}, page_content='{\"addr:city\": \"Wroc\\\\u0142aw\", \"addr:housenumber\": \"3c\", \"addr:postcode\": \"50-304\", \"addr:street\": \"Antoniego S\\\\u0142onimskiego\", \"amenity\": \"fast_food\", \"cuisine\": \"pizza\", \"delivery\": \"yes\", \"name\": \"Domino\\'s Pizza\", \"opening_hours\": \"Su-Th 11:00-23:00, Fr-Sa 11:00-24:00\", \"takeaway\": \"yes\", \"website\": \"https://www.dominospizza.pl\"}')]"
      ]
     },
     "execution_count": 22,
     "metadata": {},
     "output_type": "execute_result"
    }
   ],
   "source": [
    "results = location_vector_store.similarity_search(\n",
    "    location,\n",
    "    k=5,\n",
    ")\n",
    "\n",
    "results"
   ]
  },
  {
   "cell_type": "code",
   "execution_count": 23,
   "metadata": {},
   "outputs": [
    {
     "name": "stdout",
     "output_type": "stream",
     "text": [
      " From provided Documents, find the latitude and longitude of the location mentioned in the user's query. If it is not\n",
      "explicitly mentioned, try to extract it from the metadata of the documents. It can be near the location mentioned in the\n",
      "query.  QUERY: \"'name': 'Galeria Dominikańska', 'description': 'shopping mall', 'addr:city': 'Wrocław'\"  DOCUMENTS: 0.\n",
      "Metadata: {'amenity': 'marketplace', 'name': 'C.H. TARGET', 'address': 'Henryka Michała Kamieńskiego 14, Wrocław',\n",
      "'lattitude': 51.1412245, 'longitude': 17.0343133}    Rest: {\"addr:city\": \"Wroc\\u0142aw\", \"addr:housenumber\": \"14\",\n",
      "\"addr:postcode\": \"51-124\", \"addr:street\": \"Henryka Micha\\u0142a Kamie\\u0144skiego\", \"amenity\": \"marketplace\", \"name\":\n",
      "\"C.H. TARGET\"} 1. Metadata: {'amenity': 'monastery', 'name': 'Refektarz', 'address': 'plac Dominikański 2-4, Wrocław',\n",
      "'lattitude': 51.1092091, 'longitude': 17.0403065}    Rest: {\"addr:city\": \"Wroc\\u0142aw\", \"addr:country\": \"PL\",\n",
      "\"addr:housenumber\": \"2-4\", \"addr:postcode\": \"50-159\", \"addr:street\": \"plac Dominika\\u0144ski\", \"addr:street:sym_ul\":\n",
      "\"04103\", \"amenity\": \"monastery\", \"image\": \"https://photos.app.goo.gl/PnhinPXQh9QtAxwYA\", \"name\": \"Refektarz\"} 2.\n",
      "Metadata: {'amenity': 'restaurant', 'name': 'Katedralna', 'address': 'Świętego Idziego 2, Wrocław', 'lattitude':\n",
      "51.115196, 'longitude': 17.0451919}    Rest: {\"addr:city\": \"Wroc\\u0142aw\", \"addr:housenumber\": \"2\", \"addr:postcode\":\n",
      "\"50-328\", \"addr:street\": \"\\u015awi\\u0119tego Idziego\", \"amenity\": \"restaurant\", \"cuisine\": \"international\", \"name\":\n",
      "\"Katedralna\"} 3. Metadata: {'amenity': 'fast_food', 'name': \"Domino's Pizza\", 'address': 'Tadeusza Kościuszki 89,\n",
      "Wrocław', 'lattitude': 51.1007745, 'longitude': 17.0413763}    Rest: {\"addr:city\": \"Wroc\\u0142aw\", \"addr:housenumber\":\n",
      "\"89\", \"addr:postcode\": \"50-441\", \"addr:street\": \"Tadeusza Ko\\u015bciuszki\", \"amenity\": \"fast_food\", \"brand\": \"Domino's\",\n",
      "\"brand:wikidata\": \"Q839466\", \"cuisine\": \"pizza\", \"delivery\": \"yes\", \"name\": \"Domino's Pizza\", \"opening_hours\": \"Su-Th\n",
      "10:00-23:00; Fr,Sa 11:00-24:00\", \"takeaway\": \"yes\", \"website\": \"https://www.dominospizza.pl\"} 4. Metadata: {'amenity':\n",
      "'fast_food', 'name': \"Domino's Pizza\", 'address': 'Antoniego Słonimskiego 3c, Wrocław', 'lattitude': 51.1297383,\n",
      "'longitude': 17.045166}    Rest: {\"addr:city\": \"Wroc\\u0142aw\", \"addr:housenumber\": \"3c\", \"addr:postcode\": \"50-304\",\n",
      "\"addr:street\": \"Antoniego S\\u0142onimskiego\", \"amenity\": \"fast_food\", \"cuisine\": \"pizza\", \"delivery\": \"yes\", \"name\":\n",
      "\"Domino's Pizza\", \"opening_hours\": \"Su-Th 11:00-23:00, Fr-Sa 11:00-24:00\", \"takeaway\": \"yes\", \"website\":\n",
      "\"https://www.dominospizza.pl\"}  Expected Extraction: `EXPLANATION`: (short explanation of how the latitude and longitude\n",
      "were extracted) `LATITUDE`: (latitude value) `LONGITUDE`: (longitude value)\n",
      "\n",
      " `EXPLANATION`: The query mentions 'Galeria Dominikańska', a shopping mall in Wrocław. However, none of the provided\n",
      "documents explicitly mention this location. Therefore, we can look for a location near the 'Dominikański' area, as it is\n",
      "mentioned in the query and in one of the document addresses. The closest location to this area is the 'Refektarz' at\n",
      "'plac Dominikański 2-4, Wrocław'.  `LATITUDE`: 51.1092091 `LONGITUDE`: 17.0403065\n"
     ]
    }
   ],
   "source": [
    "documents = documents_to_string(results)\n",
    "\n",
    "latitude, longitude = extract_lat_lon_from_documents(location, documents)"
   ]
  },
  {
   "cell_type": "code",
   "execution_count": 24,
   "metadata": {},
   "outputs": [
    {
     "data": {
      "text/plain": [
       "(51.1092091,\n",
       " 17.0403065,\n",
       " \"'shop': 'hairdresser', 'price': 'less than 100 PLN for a men's haircut'\")"
      ]
     },
     "execution_count": 24,
     "metadata": {},
     "output_type": "execute_result"
    }
   ],
   "source": [
    "latitude, longitude, place"
   ]
  },
  {
   "cell_type": "code",
   "execution_count": 25,
   "metadata": {},
   "outputs": [
    {
     "data": {
      "text/plain": [
       "[Document(id='4b0f0456-16cb-484c-8b6f-b56ad6e59e1f', metadata={'name': 'Liudmyla Kuzmuk Studio', 'rating': '5,0', 'lattitude': 51.1031697, 'longitude': 17.0430977, 'address': 'Komuny Paryskiej, 14A, 50-110, Wrocław'}, page_content=\"Name: Liudmyla Kuzmuk Studio Rating: 5,0 Address: Komuny Paryskiej, 14A, 50-110, Wrocław  Services: [{'price': '100,00 zł', 'name': 'strzyżenie męskie'}, {'price': '150,00 zł', 'name': 'combo włosy broda'}, {'price': '130,00 zł', 'name': 'strzyzenie nozyczkami classic'}, {'price': '100,00 zł', 'name': 'strzyżenie męskie'}, {'price': '150,00 zł', 'name': 'combo włosy broda'}, {'price': '130,00 zł', 'name': 'strzyzenie nozyczkami classic'}, {'price': '70,00 zł', 'name': 'strzyżenie brody'}]\"),\n",
       " Document(id='87b73d98-ad73-407d-9250-113ddbcd7f7f', metadata={'name': 'PAN OD WŁOSÓW', 'rating': '5,0', 'lattitude': 51.1034862, 'longitude': 17.0292795, 'address': 'plac Tadeusza Kościuszki 5, 50-029, Wrocław'}, page_content=\"Name: PAN OD WŁOSÓW Rating: 5,0 Address: plac Tadeusza Kościuszki 5, 50-029, Wrocław  Services: [{'price': '130,00 zł', 'name': 'strzyżenie damskie krótki średnie włosy'}, {'price': '160,00 zł', 'name': 'strzyżenie damskie długi gęste wlosy'}, {'price': '60,00 zł', 'name': 'strzyżenie męskie'}, {'price': '230,00 zł', 'name': 'tonowanie koloru'}, {'price': '300,00 zł', 'name': 'farbowanie włosów długi jeden kolor'}, {'price': '250,00 zł', 'name': 'farbowanie włosów średni krótki jeden kolor'}, {'price': '450,00 zł+', 'name': 'sombre ombre shatush'}, {'price': '400,00 zł+', 'name': 'balayage'}, {'price': '150,00 zł', 'name': 'pielęgnacja k pak joico'}, {'price': '230,00 zł', 'name': 'pielęgnacja k pak joico strzyżenia'}, {'price': '300,00 zł+', 'name': 'botox na włosy na gorąco'}, {'price': '600,00 zł+', 'name': 'airtouch handtouch'}, {'price': '200,00 zł', 'name': 'farbowanie odrostu bez rozjaśniania'}, {'price': '40,00 zł', 'name': 'grzywka'}, {'price': '100,00 zł+', 'name': 'odbudowa włosa do koloryzacji'}]\")]"
      ]
     },
     "execution_count": 25,
     "metadata": {},
     "output_type": "execute_result"
    }
   ],
   "source": [
    "results = booksy_vector_store.similarity_search(\n",
    "    place,\n",
    "    k=5,\n",
    "    filter=generate_square_filter((latitude, longitude), radius_km=distance),\n",
    ")\n",
    "\n",
    "results"
   ]
  },
  {
   "cell_type": "code",
   "execution_count": 26,
   "metadata": {},
   "outputs": [
    {
     "name": "stdout",
     "output_type": "stream",
     "text": [
      " Provide short suummarization based on user query and the documents provided. Recommend the most relevant document.\n",
      "Write it short and concise.  QUERY: \"Find ma a hairdresser that costs less than 100 PLN for a men's haircut near to\n",
      "Galeria Dominikańska, Wrocław\"  DOCUMENTS: 0. Metadata: {'name': 'Liudmyla Kuzmuk Studio', 'rating': '5,0', 'lattitude':\n",
      "51.1031697, 'longitude': 17.0430977, 'address': 'Komuny Paryskiej, 14A, 50-110, Wrocław'}    Rest: Name: Liudmyla Kuzmuk\n",
      "Studio Rating: 5,0 Address: Komuny Paryskiej, 14A, 50-110, Wrocław  Services: [{'price': '100,00 zł', 'name':\n",
      "'strzyżenie męskie'}, {'price': '150,00 zł', 'name': 'combo włosy broda'}, {'price': '130,00 zł', 'name': 'strzyzenie\n",
      "nozyczkami classic'}, {'price': '100,00 zł', 'name': 'strzyżenie męskie'}, {'price': '150,00 zł', 'name': 'combo włosy\n",
      "broda'}, {'price': '130,00 zł', 'name': 'strzyzenie nozyczkami classic'}, {'price': '70,00 zł', 'name': 'strzyżenie\n",
      "brody'}] 1. Metadata: {'name': 'PAN OD WŁOSÓW', 'rating': '5,0', 'lattitude': 51.1034862, 'longitude': 17.0292795,\n",
      "'address': 'plac Tadeusza Kościuszki 5, 50-029, Wrocław'}    Rest: Name: PAN OD WŁOSÓW Rating: 5,0 Address: plac\n",
      "Tadeusza Kościuszki 5, 50-029, Wrocław  Services: [{'price': '130,00 zł', 'name': 'strzyżenie damskie krótki średnie\n",
      "włosy'}, {'price': '160,00 zł', 'name': 'strzyżenie damskie długi gęste wlosy'}, {'price': '60,00 zł', 'name':\n",
      "'strzyżenie męskie'}, {'price': '230,00 zł', 'name': 'tonowanie koloru'}, {'price': '300,00 zł', 'name': 'farbowanie\n",
      "włosów długi jeden kolor'}, {'price': '250,00 zł', 'name': 'farbowanie włosów średni krótki jeden kolor'}, {'price':\n",
      "'450,00 zł+', 'name': 'sombre ombre shatush'}, {'price': '400,00 zł+', 'name': 'balayage'}, {'price': '150,00 zł',\n",
      "'name': 'pielęgnacja k pak joico'}, {'price': '230,00 zł', 'name': 'pielęgnacja k pak joico strzyżenia'}, {'price':\n",
      "'300,00 zł+', 'name': 'botox na włosy na gorąco'}, {'price': '600,00 zł+', 'name': 'airtouch handtouch'}, {'price':\n",
      "'200,00 zł', 'name': 'farbowanie odrostu bez rozjaśniania'}, {'price': '40,00 zł', 'name': 'grzywka'}, {'price': '100,00\n",
      "zł+', 'name': 'odbudowa włosa do koloryzacji'}]  RECOMMENDATION:\n",
      "\n",
      " Recommendation: PAN OD WŁOSÓW  Summary: PAN OD WŁOSÓW is a hairdresser located at plac Tadeusza Kościuszki 5, 50-029,\n",
      "Wrocław, with a rating of 5.0. They offer men's haircuts for 60.00 PLN, which is within your budget. The other\n",
      "hairdresser, Liudmyla Kuzmuk Studio, offers men's haircuts for 100.00 PLN, which is above your budget.\n"
     ]
    }
   ],
   "source": [
    "documents = documents_to_string(results)\n",
    "\n",
    "answer = summarize_results(QUERY, documents)"
   ]
  },
  {
   "cell_type": "code",
   "execution_count": 27,
   "metadata": {},
   "outputs": [
    {
     "name": "stdout",
     "output_type": "stream",
     "text": [
      " Recommendation: PAN OD WŁOSÓW  Summary: PAN OD WŁOSÓW is a hairdresser located at plac Tadeusza Kościuszki 5, 50-029,\n",
      "Wrocław, with a rating of 5.0. They offer men's haircuts for 60.00 PLN, which is within your budget. The other\n",
      "hairdresser, Liudmyla Kuzmuk Studio, offers men's haircuts for 100.00 PLN, which is above your budget.\n"
     ]
    }
   ],
   "source": [
    "print('\\n'.join(textwrap.wrap(answer, width=TEXT_WRAP_WIDTH)))"
   ]
  },
  {
   "cell_type": "code",
   "execution_count": null,
   "metadata": {},
   "outputs": [],
   "source": []
  }
 ],
 "metadata": {
  "kernelspec": {
   "display_name": "Python 3 (ipykernel)",
   "language": "python",
   "name": "python3"
  },
  "language_info": {
   "codemirror_mode": {
    "name": "ipython",
    "version": 3
   },
   "file_extension": ".py",
   "mimetype": "text/x-python",
   "name": "python",
   "nbconvert_exporter": "python",
   "pygments_lexer": "ipython3",
   "version": "3.10.11"
  }
 },
 "nbformat": 4,
 "nbformat_minor": 2
}
